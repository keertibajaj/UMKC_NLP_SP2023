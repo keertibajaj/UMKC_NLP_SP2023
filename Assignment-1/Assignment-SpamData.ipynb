{
 "cells": [
  {
   "cell_type": "code",
   "execution_count": 1,
   "id": "d55f511c-f89f-4be5-9709-f7806d95e5ff",
   "metadata": {},
   "outputs": [],
   "source": [
    "import math\n",
    "\n",
    "import pandas as pd\n",
    "from sklearn.feature_extraction.text import CountVectorizer\n",
    "from sklearn.naive_bayes import MultinomialNB\n",
    "from sklearn.metrics import accuracy_score, precision_score, recall_score, f1_score, classification_report\n",
    "from sklearn.model_selection import train_test_split as split_data\n",
    "from sklearn.preprocessing import LabelEncoder\n",
    "from sklearn.linear_model import LogisticRegression\n",
    "from sklearn.pipeline import make_pipeline\n",
    "\n",
    "import nltk\n",
    "from nltk.tokenize import word_tokenize, sent_tokenize\n",
    "from nltk.tag import pos_tag\n",
    "\n",
    "from tabulate import tabulate"
   ]
  },
  {
   "cell_type": "code",
   "execution_count": 2,
   "id": "14f8daa5-7338-480f-9c1a-9aafc683c282",
   "metadata": {},
   "outputs": [],
   "source": [
    "def calc_info(p):\n",
    "    # Formula: I(x) = -log2(p(x))\n",
    "    ans = {x: -math.log2(px) for x, px in p}\n",
    "    \n",
    "    # Printing Output\n",
    "    for key, value in ans.items():\n",
    "        print(key, \" : \", value)\n",
    "        \n",
    "    return ans\n",
    "\n",
    "def calc_entropy(p, q):\n",
    "    # Formula: CE(p, q) = -sum(p(x)*log2(q(x)) for x in p)\n",
    "    H = -sum(px * math.log2(qx) for (_, px), (_, qx) in zip(p, q))\n",
    "    \n",
    "    # Printing Output\n",
    "    print(\"Entropy: \", H)\n",
    "    return H\n",
    "    \n",
    "def calc_dkl(p, q):\n",
    "    # Formula: DKL(p, q) = sum(p(x)*log2(p(x)/q(x)) for x in p)\n",
    "    dkl = sum(px * math.log2(px/qx) for (_, px), (_, qx) in zip(p, q))\n",
    "    \n",
    "    # Printing Output\n",
    "    print(\"KL Divergence: \", dkl)\n",
    "    return dkl"
   ]
  },
  {
   "cell_type": "code",
   "execution_count": 3,
   "id": "1de41689-08f9-4edc-b0fd-21dd2f095296",
   "metadata": {},
   "outputs": [],
   "source": [
    "p = [('noun', 0.441),('verb', 0.255),('adj', 0.132),('adv', 0.172)]"
   ]
  },
  {
   "cell_type": "code",
   "execution_count": 4,
   "id": "607c55f7-4611-404c-925a-a38f92913b62",
   "metadata": {},
   "outputs": [
    {
     "name": "stdout",
     "output_type": "stream",
     "text": [
      "Information of p\n",
      "noun  :  1.1811494391045665\n",
      "verb  :  1.9714308478032292\n",
      "adj  :  2.9213901653036336\n",
      "adv  :  2.539519529959989\n"
     ]
    }
   ],
   "source": [
    "print(\"Information of p\")\n",
    "info = calc_info(p)"
   ]
  },
  {
   "cell_type": "code",
   "execution_count": 5,
   "id": "54b1b3a6-7770-4224-b267-36e649a49e30",
   "metadata": {},
   "outputs": [
    {
     "name": "stdout",
     "output_type": "stream",
     "text": [
      "Entropy of P with itself\n",
      "Entropy:  1.8460226298081348\n",
      "\n",
      "Entropy of (p, q)\n",
      "Entropy:  1.7264117009914783\n"
     ]
    }
   ],
   "source": [
    "print(\"Entropy of P with itself\")\n",
    "H = calc_entropy(p, p)\n",
    "\n",
    "# for cross entropy let us define a new distribution 'q'\n",
    "q = [('noun', 0.34), ('verb', 0.3), ('adj', 0.2), ('adv', 0.31)]\n",
    "\n",
    "print(\"\\nEntropy of (p, q)\")\n",
    "CE = calc_entropy(p, q)"
   ]
  },
  {
   "cell_type": "code",
   "execution_count": 6,
   "id": "2f8b1ec5-fdf6-4a6c-8d33-1d35b574c97b",
   "metadata": {},
   "outputs": [
    {
     "name": "stdout",
     "output_type": "stream",
     "text": [
      "KL Divergence:  0.0\n",
      "\n",
      "Divergence of (p, q)\n",
      "KL Divergence:  -0.11961092881665658\n",
      "\n",
      "Divergence of (q, p)\n",
      "KL Divergence:  0.3261055526489861\n"
     ]
    }
   ],
   "source": [
    "# Divergence with self distribution will be 0\n",
    "dkl = calc_dkl(p, p)\n",
    "\n",
    "print(\"\\nDivergence of (p, q)\")\n",
    "dkl_pq = calc_dkl(p, q)\n",
    "# DKL(p, q) != DKL(q, p)\n",
    "print(\"\\nDivergence of (q, p)\")\n",
    "dkl_qp = calc_dkl(q, p)"
   ]
  },
  {
   "cell_type": "code",
   "execution_count": 7,
   "id": "f2c3b950-9854-44cc-9c97-4f502fe8de2c",
   "metadata": {},
   "outputs": [
    {
     "data": {
      "text/html": [
       "<div>\n",
       "<style scoped>\n",
       "    .dataframe tbody tr th:only-of-type {\n",
       "        vertical-align: middle;\n",
       "    }\n",
       "\n",
       "    .dataframe tbody tr th {\n",
       "        vertical-align: top;\n",
       "    }\n",
       "\n",
       "    .dataframe thead th {\n",
       "        text-align: right;\n",
       "    }\n",
       "</style>\n",
       "<table border=\"1\" class=\"dataframe\">\n",
       "  <thead>\n",
       "    <tr style=\"text-align: right;\">\n",
       "      <th></th>\n",
       "      <th>v1</th>\n",
       "      <th>v2</th>\n",
       "    </tr>\n",
       "  </thead>\n",
       "  <tbody>\n",
       "    <tr>\n",
       "      <th>0</th>\n",
       "      <td>ham</td>\n",
       "      <td>Go until jurong point, crazy.. Available only ...</td>\n",
       "    </tr>\n",
       "    <tr>\n",
       "      <th>1</th>\n",
       "      <td>ham</td>\n",
       "      <td>Ok lar... Joking wif u oni...</td>\n",
       "    </tr>\n",
       "    <tr>\n",
       "      <th>2</th>\n",
       "      <td>spam</td>\n",
       "      <td>Free entry in 2 a wkly comp to win FA Cup fina...</td>\n",
       "    </tr>\n",
       "    <tr>\n",
       "      <th>3</th>\n",
       "      <td>ham</td>\n",
       "      <td>U dun say so early hor... U c already then say...</td>\n",
       "    </tr>\n",
       "    <tr>\n",
       "      <th>4</th>\n",
       "      <td>ham</td>\n",
       "      <td>Nah I don't think he goes to usf, he lives aro...</td>\n",
       "    </tr>\n",
       "  </tbody>\n",
       "</table>\n",
       "</div>"
      ],
      "text/plain": [
       "     v1                                                 v2\n",
       "0   ham  Go until jurong point, crazy.. Available only ...\n",
       "1   ham                      Ok lar... Joking wif u oni...\n",
       "2  spam  Free entry in 2 a wkly comp to win FA Cup fina...\n",
       "3   ham  U dun say so early hor... U c already then say...\n",
       "4   ham  Nah I don't think he goes to usf, he lives aro..."
      ]
     },
     "execution_count": 7,
     "metadata": {},
     "output_type": "execute_result"
    }
   ],
   "source": [
    "df = pd.read_csv('C:/Users/kbkdf/Documents/Courses/NLP/Assignment-1/spam.csv')\n",
    "df.head()"
   ]
  },
  {
   "cell_type": "code",
   "execution_count": 8,
   "id": "6c0bd2fd-7fa1-448e-aead-770b14ac877e",
   "metadata": {},
   "outputs": [
    {
     "data": {
      "text/html": [
       "<div>\n",
       "<style scoped>\n",
       "    .dataframe tbody tr th:only-of-type {\n",
       "        vertical-align: middle;\n",
       "    }\n",
       "\n",
       "    .dataframe tbody tr th {\n",
       "        vertical-align: top;\n",
       "    }\n",
       "\n",
       "    .dataframe thead th {\n",
       "        text-align: right;\n",
       "    }\n",
       "</style>\n",
       "<table border=\"1\" class=\"dataframe\">\n",
       "  <thead>\n",
       "    <tr style=\"text-align: right;\">\n",
       "      <th></th>\n",
       "      <th>label</th>\n",
       "      <th>data</th>\n",
       "    </tr>\n",
       "  </thead>\n",
       "  <tbody>\n",
       "    <tr>\n",
       "      <th>0</th>\n",
       "      <td>ham</td>\n",
       "      <td>Go until jurong point, crazy.. Available only ...</td>\n",
       "    </tr>\n",
       "    <tr>\n",
       "      <th>1</th>\n",
       "      <td>ham</td>\n",
       "      <td>Ok lar... Joking wif u oni...</td>\n",
       "    </tr>\n",
       "    <tr>\n",
       "      <th>2</th>\n",
       "      <td>spam</td>\n",
       "      <td>Free entry in 2 a wkly comp to win FA Cup fina...</td>\n",
       "    </tr>\n",
       "    <tr>\n",
       "      <th>3</th>\n",
       "      <td>ham</td>\n",
       "      <td>U dun say so early hor... U c already then say...</td>\n",
       "    </tr>\n",
       "    <tr>\n",
       "      <th>4</th>\n",
       "      <td>ham</td>\n",
       "      <td>Nah I don't think he goes to usf, he lives aro...</td>\n",
       "    </tr>\n",
       "  </tbody>\n",
       "</table>\n",
       "</div>"
      ],
      "text/plain": [
       "  label                                               data\n",
       "0   ham  Go until jurong point, crazy.. Available only ...\n",
       "1   ham                      Ok lar... Joking wif u oni...\n",
       "2  spam  Free entry in 2 a wkly comp to win FA Cup fina...\n",
       "3   ham  U dun say so early hor... U c already then say...\n",
       "4   ham  Nah I don't think he goes to usf, he lives aro..."
      ]
     },
     "execution_count": 8,
     "metadata": {},
     "output_type": "execute_result"
    }
   ],
   "source": [
    "df.rename(columns = {\"v1\" : \"label\", \"v2\":\"data\"}, inplace = True)\n",
    "df.head()"
   ]
  },
  {
   "cell_type": "code",
   "execution_count": 9,
   "id": "ca00d713-a1fd-488a-be5d-536272a7d325",
   "metadata": {},
   "outputs": [
    {
     "data": {
      "text/html": [
       "<div>\n",
       "<style scoped>\n",
       "    .dataframe tbody tr th:only-of-type {\n",
       "        vertical-align: middle;\n",
       "    }\n",
       "\n",
       "    .dataframe tbody tr th {\n",
       "        vertical-align: top;\n",
       "    }\n",
       "\n",
       "    .dataframe thead th {\n",
       "        text-align: right;\n",
       "    }\n",
       "</style>\n",
       "<table border=\"1\" class=\"dataframe\">\n",
       "  <thead>\n",
       "    <tr style=\"text-align: right;\">\n",
       "      <th></th>\n",
       "      <th>label</th>\n",
       "      <th>data</th>\n",
       "    </tr>\n",
       "  </thead>\n",
       "  <tbody>\n",
       "    <tr>\n",
       "      <th>0</th>\n",
       "      <td>0</td>\n",
       "      <td>Go until jurong point, crazy.. Available only ...</td>\n",
       "    </tr>\n",
       "    <tr>\n",
       "      <th>1</th>\n",
       "      <td>0</td>\n",
       "      <td>Ok lar... Joking wif u oni...</td>\n",
       "    </tr>\n",
       "    <tr>\n",
       "      <th>2</th>\n",
       "      <td>1</td>\n",
       "      <td>Free entry in 2 a wkly comp to win FA Cup fina...</td>\n",
       "    </tr>\n",
       "    <tr>\n",
       "      <th>3</th>\n",
       "      <td>0</td>\n",
       "      <td>U dun say so early hor... U c already then say...</td>\n",
       "    </tr>\n",
       "    <tr>\n",
       "      <th>4</th>\n",
       "      <td>0</td>\n",
       "      <td>Nah I don't think he goes to usf, he lives aro...</td>\n",
       "    </tr>\n",
       "  </tbody>\n",
       "</table>\n",
       "</div>"
      ],
      "text/plain": [
       "   label                                               data\n",
       "0      0  Go until jurong point, crazy.. Available only ...\n",
       "1      0                      Ok lar... Joking wif u oni...\n",
       "2      1  Free entry in 2 a wkly comp to win FA Cup fina...\n",
       "3      0  U dun say so early hor... U c already then say...\n",
       "4      0  Nah I don't think he goes to usf, he lives aro..."
      ]
     },
     "execution_count": 9,
     "metadata": {},
     "output_type": "execute_result"
    }
   ],
   "source": [
    "encoder = LabelEncoder()\n",
    "df['label'] = encoder.fit_transform(df['label'])\n",
    "\n",
    "df.head()"
   ]
  },
  {
   "cell_type": "code",
   "execution_count": 10,
   "id": "74aa4441-ee5f-46a1-85af-972ae4485919",
   "metadata": {},
   "outputs": [
    {
     "data": {
      "text/html": [
       "<div>\n",
       "<style scoped>\n",
       "    .dataframe tbody tr th:only-of-type {\n",
       "        vertical-align: middle;\n",
       "    }\n",
       "\n",
       "    .dataframe tbody tr th {\n",
       "        vertical-align: top;\n",
       "    }\n",
       "\n",
       "    .dataframe thead th {\n",
       "        text-align: right;\n",
       "    }\n",
       "</style>\n",
       "<table border=\"1\" class=\"dataframe\">\n",
       "  <thead>\n",
       "    <tr style=\"text-align: right;\">\n",
       "      <th></th>\n",
       "      <th>label</th>\n",
       "    </tr>\n",
       "  </thead>\n",
       "  <tbody>\n",
       "    <tr>\n",
       "      <th>count</th>\n",
       "      <td>5572.000000</td>\n",
       "    </tr>\n",
       "    <tr>\n",
       "      <th>mean</th>\n",
       "      <td>0.134063</td>\n",
       "    </tr>\n",
       "    <tr>\n",
       "      <th>std</th>\n",
       "      <td>0.340751</td>\n",
       "    </tr>\n",
       "    <tr>\n",
       "      <th>min</th>\n",
       "      <td>0.000000</td>\n",
       "    </tr>\n",
       "    <tr>\n",
       "      <th>25%</th>\n",
       "      <td>0.000000</td>\n",
       "    </tr>\n",
       "    <tr>\n",
       "      <th>50%</th>\n",
       "      <td>0.000000</td>\n",
       "    </tr>\n",
       "    <tr>\n",
       "      <th>75%</th>\n",
       "      <td>0.000000</td>\n",
       "    </tr>\n",
       "    <tr>\n",
       "      <th>max</th>\n",
       "      <td>1.000000</td>\n",
       "    </tr>\n",
       "  </tbody>\n",
       "</table>\n",
       "</div>"
      ],
      "text/plain": [
       "             label\n",
       "count  5572.000000\n",
       "mean      0.134063\n",
       "std       0.340751\n",
       "min       0.000000\n",
       "25%       0.000000\n",
       "50%       0.000000\n",
       "75%       0.000000\n",
       "max       1.000000"
      ]
     },
     "execution_count": 10,
     "metadata": {},
     "output_type": "execute_result"
    }
   ],
   "source": [
    "df.describe()"
   ]
  },
  {
   "cell_type": "code",
   "execution_count": 11,
   "id": "291dd461-b538-4e07-8872-c0b0d28a26b4",
   "metadata": {},
   "outputs": [
    {
     "name": "stdout",
     "output_type": "stream",
     "text": [
      "Number of duplicate entries in data:  403\n",
      "After dropping:  0\n"
     ]
    }
   ],
   "source": [
    "#Finding duplicates\n",
    "print(\"Number of duplicate entries in data: \", df.duplicated().sum())\n",
    "\n",
    "#dropping duplicates\n",
    "df = df.drop_duplicates(keep = 'first')\n",
    "print(\"After dropping: \", df.duplicated().sum())"
   ]
  },
  {
   "cell_type": "code",
   "execution_count": 12,
   "id": "3756d50e-48b7-43f0-9991-5e2eacbbda09",
   "metadata": {},
   "outputs": [],
   "source": [
    "#Splitting the data\n",
    "X = df[\"data\"]\n",
    "y = df[\"label\"]\n",
    "\n",
    "X_train, X_test, y_train, y_test = split_data(X, y, test_size = 0.3, random_state = 42)"
   ]
  },
  {
   "cell_type": "code",
   "execution_count": 13,
   "id": "bbe77b8b-a901-412e-aad5-020de11757c5",
   "metadata": {},
   "outputs": [],
   "source": [
    "models = ['0', '1', '2', '3']\n",
    "bayes_accu = []\n",
    "logre_accu = []"
   ]
  },
  {
   "cell_type": "markdown",
   "id": "3e088276-09ba-489a-91b8-dab90818992f",
   "metadata": {},
   "source": [
    "#### Bayes Classifier - Baseline Model0"
   ]
  },
  {
   "cell_type": "code",
   "execution_count": 14,
   "id": "4771b96f-30a8-45aa-b690-b5a5e97e6775",
   "metadata": {},
   "outputs": [],
   "source": [
    "vectorizer = CountVectorizer(stop_words=\"english\")\n",
    "X_train_cv = vectorizer.fit_transform(X_train)\n",
    "X_test_cv = vectorizer.transform(X_test)"
   ]
  },
  {
   "cell_type": "code",
   "execution_count": 15,
   "id": "fed27d88-bd08-4e4d-93be-88556b3546db",
   "metadata": {},
   "outputs": [
    {
     "data": {
      "text/plain": [
       "MultinomialNB()"
      ]
     },
     "execution_count": 15,
     "metadata": {},
     "output_type": "execute_result"
    }
   ],
   "source": [
    "# Model 0 - Baseline model using unigram and other optional parameters\n",
    "model0 = MultinomialNB()\n",
    "model0.fit(X_train_cv, y_train)"
   ]
  },
  {
   "cell_type": "code",
   "execution_count": 16,
   "id": "6cca8560-b84c-4594-a0f2-61e48a8ee81c",
   "metadata": {},
   "outputs": [
    {
     "name": "stdout",
     "output_type": "stream",
     "text": [
      "Accuracy: 0.9845261121856866\n",
      "--------------------------------------------------\n",
      "              precision    recall  f1-score   support\n",
      "\n",
      "           0       0.99      1.00      0.99      1331\n",
      "           1       0.97      0.92      0.94       220\n",
      "\n",
      "    accuracy                           0.98      1551\n",
      "   macro avg       0.98      0.96      0.97      1551\n",
      "weighted avg       0.98      0.98      0.98      1551\n",
      "\n"
     ]
    }
   ],
   "source": [
    "y_pred = model0.predict(X_test_cv)\n",
    "bayes_accu.append(accuracy_score(y_test, y_pred))\n",
    "\n",
    "print('Accuracy:', accuracy_score(y_test, y_pred))\n",
    "print(\"-\"*50)\n",
    "print(classification_report(y_test, y_pred))"
   ]
  },
  {
   "cell_type": "markdown",
   "id": "209addc7-4836-40f3-8448-51149ac172c4",
   "metadata": {},
   "source": [
    "#### Bayes Classifier - only Nouns Model1"
   ]
  },
  {
   "cell_type": "code",
   "execution_count": 17,
   "id": "77b1a560-dbdf-4097-83d2-a8236d02bab4",
   "metadata": {},
   "outputs": [],
   "source": [
    "def ext_nouns(text):\n",
    "    tokens = word_tokenize(text)\n",
    "    return ' '.join([word for word, pos in pos_tag(tokens) if pos.startswith('N')])"
   ]
  },
  {
   "cell_type": "code",
   "execution_count": 18,
   "id": "f7b72882-ec0f-4ef5-937f-133de1ffa9ad",
   "metadata": {},
   "outputs": [],
   "source": [
    "X1 = X.apply(ext_nouns)\n",
    "X1_train, X1_test, y1_train, y1_test = split_data(X1, y, test_size = 0.3, random_state = 42)"
   ]
  },
  {
   "cell_type": "code",
   "execution_count": 19,
   "id": "415cd771-7b32-4949-84e3-5ad463337101",
   "metadata": {},
   "outputs": [
    {
     "name": "stdout",
     "output_type": "stream",
     "text": [
      "Before extracting Nouns:\n",
      " ------------------------------ \n",
      " 0    Go until jurong point, crazy.. Available only ...\n",
      "1                        Ok lar... Joking wif u oni...\n",
      "2    Free entry in 2 a wkly comp to win FA Cup fina...\n",
      "3    U dun say so early hor... U c already then say...\n",
      "4    Nah I don't think he goes to usf, he lives aro...\n",
      "Name: data, dtype: object\n",
      "============================================================\n",
      "After extracting Nouns:\n",
      " ------------------------------ \n",
      " 0    Go point .. Available bugis world la buffet Ci...\n",
      "1                                    Ok lar Joking oni\n",
      "2    entry comp FA Cup tkts May FA entry question t...\n",
      "3                                            dun hor U\n",
      "4                                                  Nah\n",
      "Name: data, dtype: object\n"
     ]
    }
   ],
   "source": [
    "print(\"Before extracting Nouns:\\n\",\"-\"*30,\"\\n\", X.head())\n",
    "print(\"=\"*60)\n",
    "print(\"After extracting Nouns:\\n\",\"-\"*30,\"\\n\", X1.head())"
   ]
  },
  {
   "cell_type": "code",
   "execution_count": 20,
   "id": "9797243e-4671-4e2f-9d1e-6937a6acf2fa",
   "metadata": {},
   "outputs": [],
   "source": [
    "vectorizer = CountVectorizer(stop_words=\"english\")\n",
    "X1_train_cv = vectorizer.fit_transform(X1_train)\n",
    "X1_test_cv = vectorizer.transform(X1_test)"
   ]
  },
  {
   "cell_type": "code",
   "execution_count": 21,
   "id": "8160b7ff-f8b9-467a-abb3-a4efeecafb21",
   "metadata": {},
   "outputs": [
    {
     "data": {
      "text/plain": [
       "MultinomialNB()"
      ]
     },
     "execution_count": 21,
     "metadata": {},
     "output_type": "execute_result"
    }
   ],
   "source": [
    "# Model 1 - Use only nouns and other optional parameters\n",
    "model1 = MultinomialNB()\n",
    "model1.fit(X1_train_cv, y1_train)"
   ]
  },
  {
   "cell_type": "code",
   "execution_count": 22,
   "id": "3cd7c004-52f6-442d-bda0-9225682fda1c",
   "metadata": {},
   "outputs": [
    {
     "name": "stdout",
     "output_type": "stream",
     "text": [
      "Accuracy: 0.9819471308833011\n",
      "--------------------------------------------------\n",
      "              precision    recall  f1-score   support\n",
      "\n",
      "           0       0.99      0.99      0.99      1331\n",
      "           1       0.96      0.91      0.93       220\n",
      "\n",
      "    accuracy                           0.98      1551\n",
      "   macro avg       0.97      0.95      0.96      1551\n",
      "weighted avg       0.98      0.98      0.98      1551\n",
      "\n"
     ]
    }
   ],
   "source": [
    "y1_pred = model1.predict(X1_test_cv)\n",
    "bayes_accu.append(accuracy_score(y1_test, y1_pred))\n",
    "\n",
    "print('Accuracy:', accuracy_score(y1_test, y1_pred))\n",
    "print(\"-\"*50)\n",
    "print(classification_report(y1_test, y1_pred))"
   ]
  },
  {
   "cell_type": "markdown",
   "id": "95ad8c73-b8bc-4f24-a78b-8ef5e1ee8f69",
   "metadata": {},
   "source": [
    "#### Bayes Classifier - only Verbs Model2"
   ]
  },
  {
   "cell_type": "code",
   "execution_count": 23,
   "id": "b1fbcc27-c79a-4421-b907-84e425ba325b",
   "metadata": {},
   "outputs": [],
   "source": [
    "def ext_verbs(text):\n",
    "    tokens = word_tokenize(text)\n",
    "    return ' '.join([word for word, pos in pos_tag(tokens) if pos.startswith('V')])"
   ]
  },
  {
   "cell_type": "code",
   "execution_count": 24,
   "id": "b18bfa82-d258-45f0-99a7-501d247f16e3",
   "metadata": {},
   "outputs": [],
   "source": [
    "X2 = X.apply(ext_verbs)\n",
    "X2_train, X2_test, y2_train, y2_test = split_data(X2, y, test_size = 0.3, random_state = 42)"
   ]
  },
  {
   "cell_type": "code",
   "execution_count": 25,
   "id": "66427c68-befe-44a7-bd51-154c4ff522ad",
   "metadata": {},
   "outputs": [
    {
     "name": "stdout",
     "output_type": "stream",
     "text": [
      "Before extracting Verbs:\n",
      " ------------------------------ \n",
      " 0    Go until jurong point, crazy.. Available only ...\n",
      "1                        Ok lar... Joking wif u oni...\n",
      "2    Free entry in 2 a wkly comp to win FA Cup fina...\n",
      "3    U dun say so early hor... U c already then say...\n",
      "4    Nah I don't think he goes to usf, he lives aro...\n",
      "Name: data, dtype: object\n",
      "============================================================\n",
      "After extracting Verbs:\n",
      " ------------------------------ \n",
      " 0                        got\n",
      "1                           \n",
      "2     win Text receive apply\n",
      "3                  say c say\n",
      "4    do think goes usf lives\n",
      "Name: data, dtype: object\n"
     ]
    }
   ],
   "source": [
    "print(\"Before extracting Verbs:\\n\",\"-\"*30,\"\\n\", X.head())\n",
    "print(\"=\"*60)\n",
    "print(\"After extracting Verbs:\\n\",\"-\"*30,\"\\n\", X2.head())"
   ]
  },
  {
   "cell_type": "code",
   "execution_count": 26,
   "id": "e679488a-7b2b-452b-b668-c2c3982ee970",
   "metadata": {},
   "outputs": [],
   "source": [
    "vectorizer = CountVectorizer(stop_words=\"english\")\n",
    "X2_train_cv = vectorizer.fit_transform(X2_train)\n",
    "X2_test_cv = vectorizer.transform(X2_test)"
   ]
  },
  {
   "cell_type": "code",
   "execution_count": 27,
   "id": "a2a029f0-841f-44c6-8592-f0ee3455eecf",
   "metadata": {},
   "outputs": [
    {
     "data": {
      "text/plain": [
       "MultinomialNB()"
      ]
     },
     "execution_count": 27,
     "metadata": {},
     "output_type": "execute_result"
    }
   ],
   "source": [
    "# Model 2 - Use only verbs and other optional parameters\n",
    "model2 = MultinomialNB()\n",
    "model2.fit(X2_train_cv, y2_train)"
   ]
  },
  {
   "cell_type": "code",
   "execution_count": 28,
   "id": "4567e890-e81c-43fa-84b1-8ca6fc3fc7ad",
   "metadata": {},
   "outputs": [
    {
     "name": "stdout",
     "output_type": "stream",
     "text": [
      "Accuracy: 0.9284332688588007\n",
      "--------------------------------------------------\n",
      "              precision    recall  f1-score   support\n",
      "\n",
      "           0       0.93      1.00      0.96      1331\n",
      "           1       0.96      0.52      0.67       220\n",
      "\n",
      "    accuracy                           0.93      1551\n",
      "   macro avg       0.94      0.76      0.82      1551\n",
      "weighted avg       0.93      0.93      0.92      1551\n",
      "\n"
     ]
    }
   ],
   "source": [
    "y2_pred = model2.predict(X2_test_cv)\n",
    "bayes_accu.append(accuracy_score(y2_test, y2_pred))\n",
    "\n",
    "print('Accuracy:', accuracy_score(y2_test, y2_pred))\n",
    "print(\"-\"*50)\n",
    "print(classification_report(y2_test, y2_pred))"
   ]
  },
  {
   "cell_type": "markdown",
   "id": "8e978ec1-5b90-44e3-8b84-2dfbf2d91cb0",
   "metadata": {},
   "source": [
    "#### Bayes Classifier - Choice of Configuration Model3"
   ]
  },
  {
   "cell_type": "code",
   "execution_count": 29,
   "id": "d1eca2bb-326f-4e98-9ff8-5f3595304f14",
   "metadata": {},
   "outputs": [],
   "source": [
    "def ext_NounVerbs(text):\n",
    "    tokens = word_tokenize(text)\n",
    "    return ' '.join([word for word, pos in pos_tag(tokens) if pos.startswith(('N', 'V'))])"
   ]
  },
  {
   "cell_type": "code",
   "execution_count": 30,
   "id": "59b1212f-c220-46a3-a916-45eaab7bf72b",
   "metadata": {},
   "outputs": [],
   "source": [
    "X3 = X.apply(ext_NounVerbs)\n",
    "X3_train, X3_test, y3_train, y3_test = split_data(X3, y, test_size = 0.3, random_state = 42)"
   ]
  },
  {
   "cell_type": "code",
   "execution_count": 31,
   "id": "348ad83c-e037-4ecc-81b5-19e3a65e561c",
   "metadata": {},
   "outputs": [
    {
     "name": "stdout",
     "output_type": "stream",
     "text": [
      "Before extracting Nouns and verbs:\n",
      " ------------------------------ \n",
      " 0    Go until jurong point, crazy.. Available only ...\n",
      "1                        Ok lar... Joking wif u oni...\n",
      "2    Free entry in 2 a wkly comp to win FA Cup fina...\n",
      "3    U dun say so early hor... U c already then say...\n",
      "4    Nah I don't think he goes to usf, he lives aro...\n",
      "Name: data, dtype: object\n",
      "============================================================\n",
      "After extracting Nouns and Verbs:\n",
      " ------------------------------ \n",
      " 0    Go point .. Available bugis world la buffet Ci...\n",
      "1                                    Ok lar Joking oni\n",
      "2    entry comp win FA Cup tkts May Text FA receive...\n",
      "3                                  dun say hor U c say\n",
      "4                          Nah do think goes usf lives\n",
      "Name: data, dtype: object\n"
     ]
    }
   ],
   "source": [
    "print(\"Before extracting Nouns and verbs:\\n\",\"-\"*30,\"\\n\", X.head())\n",
    "print(\"=\"*60)\n",
    "print(\"After extracting Nouns and Verbs:\\n\",\"-\"*30,\"\\n\", X3.head())"
   ]
  },
  {
   "cell_type": "code",
   "execution_count": 32,
   "id": "20bdeeb7-bb90-4988-9763-19500484ae91",
   "metadata": {},
   "outputs": [],
   "source": [
    "vectorizer = CountVectorizer(ngram_range=(1, 3), stop_words=\"english\")\n",
    "X3_train_cv = vectorizer.fit_transform(X_train)\n",
    "X3_test_cv = vectorizer.transform(X_test)"
   ]
  },
  {
   "cell_type": "code",
   "execution_count": 33,
   "id": "eeeb7fd6-1201-4480-85bf-29d5bcb0fabe",
   "metadata": {},
   "outputs": [
    {
     "data": {
      "text/plain": [
       "MultinomialNB()"
      ]
     },
     "execution_count": 33,
     "metadata": {},
     "output_type": "execute_result"
    }
   ],
   "source": [
    "# Model 3 - Choice of configuration and other optional parameters\n",
    "model3 = MultinomialNB()\n",
    "model3.fit(X3_train_cv, y3_train)"
   ]
  },
  {
   "cell_type": "code",
   "execution_count": 34,
   "id": "8acdfe96-6c27-419f-878c-2ed00f1a5409",
   "metadata": {},
   "outputs": [
    {
     "name": "stdout",
     "output_type": "stream",
     "text": [
      "Accuracy: 0.9858156028368794\n",
      "--------------------------------------------------\n",
      "              precision    recall  f1-score   support\n",
      "\n",
      "           0       0.99      1.00      0.99      1331\n",
      "           1       0.98      0.92      0.95       220\n",
      "\n",
      "    accuracy                           0.99      1551\n",
      "   macro avg       0.98      0.96      0.97      1551\n",
      "weighted avg       0.99      0.99      0.99      1551\n",
      "\n"
     ]
    }
   ],
   "source": [
    "y3_pred = model3.predict(X3_test_cv)\n",
    "bayes_accu.append(accuracy_score(y3_test, y3_pred))\n",
    "\n",
    "print('Accuracy:', accuracy_score(y3_test, y3_pred))\n",
    "print(\"-\"*50)\n",
    "print(classification_report(y3_test, y3_pred))"
   ]
  },
  {
   "cell_type": "markdown",
   "id": "e24479ff-93c8-458e-b383-a84320af4a5a",
   "metadata": {},
   "source": [
    "#### Logistic Regression - Comparable to Baseline Model0"
   ]
  },
  {
   "cell_type": "code",
   "execution_count": 35,
   "id": "0a093bff-43e5-4425-b70d-c0a226841864",
   "metadata": {},
   "outputs": [],
   "source": [
    "vectorizer = CountVectorizer(stop_words=\"english\")\n",
    "log_reg = LogisticRegression()"
   ]
  },
  {
   "cell_type": "code",
   "execution_count": 36,
   "id": "a8ecbd33-7c1c-409b-9c1e-4456e7084edb",
   "metadata": {},
   "outputs": [
    {
     "data": {
      "text/plain": [
       "Pipeline(steps=[('countvectorizer', CountVectorizer(stop_words='english')),\n",
       "                ('logisticregression', LogisticRegression())])"
      ]
     },
     "execution_count": 36,
     "metadata": {},
     "output_type": "execute_result"
    }
   ],
   "source": [
    "model4 = make_pipeline(vectorizer, log_reg)\n",
    "model4.fit(X_train, y_train)"
   ]
  },
  {
   "cell_type": "code",
   "execution_count": 37,
   "id": "5d7834b1-83cc-4339-b0b7-fa0fa37840f2",
   "metadata": {},
   "outputs": [
    {
     "name": "stdout",
     "output_type": "stream",
     "text": [
      "Accuracy: 0.9754996776273372\n",
      "--------------------------------------------------\n",
      "              precision    recall  f1-score   support\n",
      "\n",
      "           0       0.97      1.00      0.99      1331\n",
      "           1       0.99      0.84      0.91       220\n",
      "\n",
      "    accuracy                           0.98      1551\n",
      "   macro avg       0.98      0.92      0.95      1551\n",
      "weighted avg       0.98      0.98      0.97      1551\n",
      "\n"
     ]
    }
   ],
   "source": [
    "y4_pred = model4.predict(X_test)\n",
    "logre_accu.append(accuracy_score(y_test, y4_pred))\n",
    "\n",
    "print('Accuracy:', accuracy_score(y_test, y4_pred))\n",
    "print(\"-\"*50)\n",
    "print(classification_report(y_test, y4_pred))"
   ]
  },
  {
   "cell_type": "markdown",
   "id": "50a1f9c8-b3dc-4e37-b8b2-b5ca6dc1b18e",
   "metadata": {},
   "source": [
    "#### Logistic Regression - Comparable to only Nouns Model1"
   ]
  },
  {
   "cell_type": "code",
   "execution_count": 38,
   "id": "52a30de6-b9a7-4c5c-a827-8c8b74426d7c",
   "metadata": {},
   "outputs": [],
   "source": [
    "vectorizer = CountVectorizer(stop_words=\"english\")\n",
    "log_reg = LogisticRegression()"
   ]
  },
  {
   "cell_type": "code",
   "execution_count": 39,
   "id": "3d48b37e-38d4-4bad-87e3-47761aa25637",
   "metadata": {},
   "outputs": [
    {
     "data": {
      "text/plain": [
       "Pipeline(steps=[('countvectorizer', CountVectorizer(stop_words='english')),\n",
       "                ('logisticregression', LogisticRegression())])"
      ]
     },
     "execution_count": 39,
     "metadata": {},
     "output_type": "execute_result"
    }
   ],
   "source": [
    "model5 = make_pipeline(vectorizer, log_reg)\n",
    "model5.fit(X1_train, y1_train)"
   ]
  },
  {
   "cell_type": "code",
   "execution_count": 40,
   "id": "de3074a0-963c-44df-ae4e-0ea8fc2e7999",
   "metadata": {},
   "outputs": [
    {
     "name": "stdout",
     "output_type": "stream",
     "text": [
      "Accuracy: 0.9613152804642167\n",
      "--------------------------------------------------\n",
      "              precision    recall  f1-score   support\n",
      "\n",
      "           0       0.96      1.00      0.98      1331\n",
      "           1       0.98      0.75      0.85       220\n",
      "\n",
      "    accuracy                           0.96      1551\n",
      "   macro avg       0.97      0.87      0.91      1551\n",
      "weighted avg       0.96      0.96      0.96      1551\n",
      "\n"
     ]
    }
   ],
   "source": [
    "y5_pred = model5.predict(X1_test)\n",
    "logre_accu.append(accuracy_score(y1_test, y5_pred))\n",
    "\n",
    "print('Accuracy:', accuracy_score(y1_test, y5_pred))\n",
    "print(\"-\"*50)\n",
    "print(classification_report(y1_test, y5_pred))"
   ]
  },
  {
   "cell_type": "markdown",
   "id": "fa15cb8c-fd86-4910-a5f9-77d99d5392fa",
   "metadata": {},
   "source": [
    "#### Logistic Regression - Comparable to only Verbs Model2"
   ]
  },
  {
   "cell_type": "code",
   "execution_count": 41,
   "id": "1198e250-cea4-4147-8179-2db79b6c751b",
   "metadata": {},
   "outputs": [],
   "source": [
    "vectorizer = CountVectorizer(stop_words=\"english\")\n",
    "log_reg = LogisticRegression()"
   ]
  },
  {
   "cell_type": "code",
   "execution_count": 42,
   "id": "f34acdcb-f5be-40fa-b750-800e80f56a12",
   "metadata": {},
   "outputs": [
    {
     "data": {
      "text/plain": [
       "Pipeline(steps=[('countvectorizer', CountVectorizer(stop_words='english')),\n",
       "                ('logisticregression', LogisticRegression())])"
      ]
     },
     "execution_count": 42,
     "metadata": {},
     "output_type": "execute_result"
    }
   ],
   "source": [
    "model6 = make_pipeline(vectorizer, log_reg)\n",
    "model6.fit(X2_train, y2_train)"
   ]
  },
  {
   "cell_type": "code",
   "execution_count": 43,
   "id": "17f98d00-fad3-4995-87ef-8c8feb45e671",
   "metadata": {},
   "outputs": [
    {
     "name": "stdout",
     "output_type": "stream",
     "text": [
      "Accuracy: 0.9097356544165055\n",
      "--------------------------------------------------\n",
      "              precision    recall  f1-score   support\n",
      "\n",
      "           0       0.91      1.00      0.95      1331\n",
      "           1       0.95      0.38      0.55       220\n",
      "\n",
      "    accuracy                           0.91      1551\n",
      "   macro avg       0.93      0.69      0.75      1551\n",
      "weighted avg       0.91      0.91      0.89      1551\n",
      "\n"
     ]
    }
   ],
   "source": [
    "y6_pred = model6.predict(X2_test)\n",
    "logre_accu.append(accuracy_score(y2_test, y6_pred))\n",
    "\n",
    "print('Accuracy:', accuracy_score(y2_test, y6_pred))\n",
    "print(\"-\"*50)\n",
    "print(classification_report(y2_test, y6_pred))"
   ]
  },
  {
   "cell_type": "markdown",
   "id": "1248af5a-ed4c-46cf-a3e6-a26e7ccf533a",
   "metadata": {},
   "source": [
    "#### Logistic Regression - Comparable to Choice of Configuration Model3"
   ]
  },
  {
   "cell_type": "code",
   "execution_count": 44,
   "id": "ac3eaba8-1fa8-4897-b0be-7122ac8258cb",
   "metadata": {},
   "outputs": [],
   "source": [
    "vectorizer = CountVectorizer(ngram_range=(1, 3), stop_words=\"english\")\n",
    "log_reg = LogisticRegression()"
   ]
  },
  {
   "cell_type": "code",
   "execution_count": 45,
   "id": "13a7e98e-fffc-4b74-9b43-32c521624cf8",
   "metadata": {},
   "outputs": [
    {
     "data": {
      "text/plain": [
       "Pipeline(steps=[('countvectorizer',\n",
       "                 CountVectorizer(ngram_range=(1, 3), stop_words='english')),\n",
       "                ('logisticregression', LogisticRegression())])"
      ]
     },
     "execution_count": 45,
     "metadata": {},
     "output_type": "execute_result"
    }
   ],
   "source": [
    "model7 = make_pipeline(vectorizer, log_reg)\n",
    "model7.fit(X3_train, y3_train)"
   ]
  },
  {
   "cell_type": "code",
   "execution_count": 46,
   "id": "6796b28c-6834-4edb-96ed-66e812369694",
   "metadata": {},
   "outputs": [
    {
     "name": "stdout",
     "output_type": "stream",
     "text": [
      "Accuracy: 0.9522888459058672\n",
      "--------------------------------------------------\n",
      "              precision    recall  f1-score   support\n",
      "\n",
      "           0       0.95      1.00      0.97      1331\n",
      "           1       0.99      0.67      0.80       220\n",
      "\n",
      "    accuracy                           0.95      1551\n",
      "   macro avg       0.97      0.84      0.89      1551\n",
      "weighted avg       0.95      0.95      0.95      1551\n",
      "\n"
     ]
    }
   ],
   "source": [
    "y7_pred = model4.predict(X3_test)\n",
    "logre_accu.append(accuracy_score(y3_test, y7_pred))\n",
    "\n",
    "print('Accuracy:', accuracy_score(y3_test, y7_pred))\n",
    "print(\"-\"*50)\n",
    "print(classification_report(y3_test, y7_pred))"
   ]
  },
  {
   "cell_type": "code",
   "execution_count": 47,
   "id": "422916f9-b022-464d-b297-0b7a63e1f4f8",
   "metadata": {},
   "outputs": [
    {
     "name": "stdout",
     "output_type": "stream",
     "text": [
      "╒═════════╤═══════════════╤═══════════════════════╕\n",
      "│   Model │   Naive Bayes │   Logistic regression │\n",
      "╞═════════╪═══════════════╪═══════════════════════╡\n",
      "│       0 │      0.984526 │              0.9755   │\n",
      "├─────────┼───────────────┼───────────────────────┤\n",
      "│       1 │      0.981947 │              0.961315 │\n",
      "├─────────┼───────────────┼───────────────────────┤\n",
      "│       2 │      0.928433 │              0.909736 │\n",
      "├─────────┼───────────────┼───────────────────────┤\n",
      "│       3 │      0.985816 │              0.952289 │\n",
      "╘═════════╧═══════════════╧═══════════════════════╛\n"
     ]
    }
   ],
   "source": [
    "table = []\n",
    "for i in range(len(models)):\n",
    "    table.append([models[i], bayes_accu[i], logre_accu[i]])\n",
    "    \n",
    "print(tabulate(table, headers=[\"Model\", \"Naive Bayes\", \"Logistic regression\"], tablefmt=\"fancy_grid\"))"
   ]
  },
  {
   "cell_type": "code",
   "execution_count": null,
   "id": "5e8f54a5-c9c6-437c-a088-0987dc56edc1",
   "metadata": {},
   "outputs": [],
   "source": []
  }
 ],
 "metadata": {
  "kernelspec": {
   "display_name": "Python 3 (ipykernel)",
   "language": "python",
   "name": "python3"
  },
  "language_info": {
   "codemirror_mode": {
    "name": "ipython",
    "version": 3
   },
   "file_extension": ".py",
   "mimetype": "text/x-python",
   "name": "python",
   "nbconvert_exporter": "python",
   "pygments_lexer": "ipython3",
   "version": "3.9.12"
  }
 },
 "nbformat": 4,
 "nbformat_minor": 5
}
