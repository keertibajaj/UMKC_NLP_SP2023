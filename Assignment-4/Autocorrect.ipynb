{
 "cells": [
  {
   "cell_type": "code",
   "execution_count": 1,
   "id": "24e7c1bf-e633-480a-b94a-64c527556846",
   "metadata": {},
   "outputs": [],
   "source": [
    "import pandas as pd\n",
    "import numpy as np\n",
    "import textdistance\n",
    "import re\n",
    "from collections import Counter"
   ]
  },
  {
   "cell_type": "code",
   "execution_count": 2,
   "id": "372eb1ca-6f74-4485-b81e-c59e37a49b61",
   "metadata": {},
   "outputs": [],
   "source": [
    "words = []\n",
    "with open('book.txt', 'r', encoding = \"utf-8\") as file:\n",
    "    for line in file:\n",
    "        line = line.strip()  # Remove leading/trailing whitespaces\n",
    "        line_words = re.findall(r'\\w+', line.lower())\n",
    "        words.extend(line_words)"
   ]
  },
  {
   "cell_type": "code",
   "execution_count": 3,
   "id": "8c806f65-3db5-4c15-8c60-e74f3b34cde9",
   "metadata": {},
   "outputs": [
    {
     "name": "stdout",
     "output_type": "stream",
     "text": [
      "Top ten words in the text are: ['the', 'project', 'gutenberg', 'ebook', 'of', 'moby', 'dick', 'or', 'the', 'whale']\n",
      "Total Unique words are  17647\n"
     ]
    }
   ],
   "source": [
    "# This is our vocabulary\n",
    "V = set(words)\n",
    "print(\"Top ten words in the text are:\", words[0:10])\n",
    "print(\"Total Unique words are \", len(V))"
   ]
  },
  {
   "cell_type": "code",
   "execution_count": 4,
   "id": "ca227a37-5a92-42f7-9cb7-d0d55e5e5c44",
   "metadata": {},
   "outputs": [
    {
     "name": "stdout",
     "output_type": "stream",
     "text": [
      "[('the', 14703), ('of', 6742), ('and', 6517), ('a', 4799), ('to', 4707), ('in', 4238), ('that', 3081), ('it', 2534), ('his', 2530), ('i', 2120)]\n"
     ]
    }
   ],
   "source": [
    "word_freq = {}  \n",
    "word_freq = Counter(words)\n",
    "print(word_freq.most_common()[0:10])"
   ]
  },
  {
   "cell_type": "code",
   "execution_count": 5,
   "id": "a045851e-9e41-4f86-b038-9ba58c8b29ff",
   "metadata": {},
   "outputs": [],
   "source": [
    "probabilities = {}     \n",
    "total_freq = sum(word_freq.values())    \n",
    "for k in word_freq.keys():\n",
    "    probabilities[k] = word_freq[k]/total_freq"
   ]
  },
  {
   "cell_type": "code",
   "execution_count": 36,
   "id": "2a53ee0c-a714-4132-ad24-aa01c273bf21",
   "metadata": {},
   "outputs": [],
   "source": [
    "def spell_correct(word):\n",
    "    word = word.lower()\n",
    "    if word in V:\n",
    "        return('Word seems to be correct')\n",
    "    else:\n",
    "        sim = [1 - (textdistance.Jaccard(qval=2).distance(v,word)) for v in word_freq.keys()]\n",
    "        df = pd.DataFrame.from_dict(probabilities, orient = 'index').reset_index()\n",
    "        df = df.rename(columns={'index':'Word', 0:'Prob'})\n",
    "        df['Similarity'] = sim\n",
    "        output = df.sort_values(['Similarity', 'Prob'], ascending = False).head()\n",
    "        return(output)"
   ]
  },
  {
   "cell_type": "code",
   "execution_count": 33,
   "id": "049d1961-ae5e-461a-9d9b-3ffe631a506a",
   "metadata": {},
   "outputs": [
    {
     "data": {
      "text/html": [
       "<div>\n",
       "<style scoped>\n",
       "    .dataframe tbody tr th:only-of-type {\n",
       "        vertical-align: middle;\n",
       "    }\n",
       "\n",
       "    .dataframe tbody tr th {\n",
       "        vertical-align: top;\n",
       "    }\n",
       "\n",
       "    .dataframe thead th {\n",
       "        text-align: right;\n",
       "    }\n",
       "</style>\n",
       "<table border=\"1\" class=\"dataframe\">\n",
       "  <thead>\n",
       "    <tr style=\"text-align: right;\">\n",
       "      <th></th>\n",
       "      <th>Word</th>\n",
       "      <th>Prob</th>\n",
       "      <th>Similarity</th>\n",
       "    </tr>\n",
       "  </thead>\n",
       "  <tbody>\n",
       "    <tr>\n",
       "      <th>2571</th>\n",
       "      <td>nevertheless</td>\n",
       "      <td>0.000225</td>\n",
       "      <td>0.750000</td>\n",
       "    </tr>\n",
       "    <tr>\n",
       "      <th>13657</th>\n",
       "      <td>boneless</td>\n",
       "      <td>0.000013</td>\n",
       "      <td>0.416667</td>\n",
       "    </tr>\n",
       "    <tr>\n",
       "      <th>12684</th>\n",
       "      <td>elevates</td>\n",
       "      <td>0.000004</td>\n",
       "      <td>0.416667</td>\n",
       "    </tr>\n",
       "    <tr>\n",
       "      <th>1105</th>\n",
       "      <td>never</td>\n",
       "      <td>0.000925</td>\n",
       "      <td>0.400000</td>\n",
       "    </tr>\n",
       "    <tr>\n",
       "      <th>7136</th>\n",
       "      <td>level</td>\n",
       "      <td>0.000108</td>\n",
       "      <td>0.400000</td>\n",
       "    </tr>\n",
       "  </tbody>\n",
       "</table>\n",
       "</div>"
      ],
      "text/plain": [
       "               Word      Prob  Similarity\n",
       "2571   nevertheless  0.000225    0.750000\n",
       "13657      boneless  0.000013    0.416667\n",
       "12684      elevates  0.000004    0.416667\n",
       "1105          never  0.000925    0.400000\n",
       "7136          level  0.000108    0.400000"
      ]
     },
     "execution_count": 33,
     "metadata": {},
     "output_type": "execute_result"
    }
   ],
   "source": [
    "spell_correct('neverteless')"
   ]
  },
  {
   "cell_type": "code",
   "execution_count": null,
   "id": "79b96977-33d5-4565-9069-de6488cb0e52",
   "metadata": {},
   "outputs": [],
   "source": [
    "spell_correct(\"whale\")"
   ]
  },
  {
   "cell_type": "code",
   "execution_count": 38,
   "id": "54220ec1-1a4d-4e87-96b3-95a9cfb68e74",
   "metadata": {},
   "outputs": [
    {
     "data": {
      "text/html": [
       "<div>\n",
       "<style scoped>\n",
       "    .dataframe tbody tr th:only-of-type {\n",
       "        vertical-align: middle;\n",
       "    }\n",
       "\n",
       "    .dataframe tbody tr th {\n",
       "        vertical-align: top;\n",
       "    }\n",
       "\n",
       "    .dataframe thead th {\n",
       "        text-align: right;\n",
       "    }\n",
       "</style>\n",
       "<table border=\"1\" class=\"dataframe\">\n",
       "  <thead>\n",
       "    <tr style=\"text-align: right;\">\n",
       "      <th></th>\n",
       "      <th>Word</th>\n",
       "      <th>Prob</th>\n",
       "      <th>Similarity</th>\n",
       "    </tr>\n",
       "  </thead>\n",
       "  <tbody>\n",
       "    <tr>\n",
       "      <th>8</th>\n",
       "      <td>whale</td>\n",
       "      <td>0.005524</td>\n",
       "      <td>0.800000</td>\n",
       "    </tr>\n",
       "    <tr>\n",
       "      <th>206</th>\n",
       "      <td>whales</td>\n",
       "      <td>0.001217</td>\n",
       "      <td>0.666667</td>\n",
       "    </tr>\n",
       "    <tr>\n",
       "      <th>5287</th>\n",
       "      <td>whaler</td>\n",
       "      <td>0.000085</td>\n",
       "      <td>0.666667</td>\n",
       "    </tr>\n",
       "    <tr>\n",
       "      <th>1313</th>\n",
       "      <td>whale_</td>\n",
       "      <td>0.000063</td>\n",
       "      <td>0.666667</td>\n",
       "    </tr>\n",
       "    <tr>\n",
       "      <th>1792</th>\n",
       "      <td>_whale</td>\n",
       "      <td>0.000004</td>\n",
       "      <td>0.666667</td>\n",
       "    </tr>\n",
       "  </tbody>\n",
       "</table>\n",
       "</div>"
      ],
      "text/plain": [
       "        Word      Prob  Similarity\n",
       "8      whale  0.005524    0.800000\n",
       "206   whales  0.001217    0.666667\n",
       "5287  whaler  0.000085    0.666667\n",
       "1313  whale_  0.000063    0.666667\n",
       "1792  _whale  0.000004    0.666667"
      ]
     },
     "execution_count": 38,
     "metadata": {},
     "output_type": "execute_result"
    }
   ],
   "source": [
    "spell_correct('whalle')"
   ]
  },
  {
   "cell_type": "code",
   "execution_count": null,
   "id": "8ba822ee-9eca-4b92-9c3c-2f81e26a04ad",
   "metadata": {},
   "outputs": [],
   "source": []
  }
 ],
 "metadata": {
  "kernelspec": {
   "display_name": "Python 3 (ipykernel)",
   "language": "python",
   "name": "python3"
  },
  "language_info": {
   "codemirror_mode": {
    "name": "ipython",
    "version": 3
   },
   "file_extension": ".py",
   "mimetype": "text/x-python",
   "name": "python",
   "nbconvert_exporter": "python",
   "pygments_lexer": "ipython3",
   "version": "3.9.16"
  }
 },
 "nbformat": 4,
 "nbformat_minor": 5
}
