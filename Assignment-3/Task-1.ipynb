{
 "cells": [
  {
   "cell_type": "code",
   "execution_count": null,
   "id": "73fe44ce-c70c-4ac1-8b72-a5436fd9611f",
   "metadata": {},
   "outputs": [],
   "source": [
    "import gensim\n",
    "import logging\n",
    "import os\n",
    "import urllib.request\n",
    "import bz2"
   ]
  },
  {
   "cell_type": "code",
   "execution_count": null,
   "id": "0bc5ef88-f807-49c7-8647-daf305a62587",
   "metadata": {},
   "outputs": [],
   "source": [
    "# Download the dataset\n",
    "url = \"https://dumps.wikimedia.org/enwiki/latest/enwiki-latest-pages-articles-multistream.xml.bz2\"\n",
    "filename = \"enwiki-latest-pages-articles-multistream.xml.bz2\"\n",
    "if not os.path.exists(filename):\n",
    "    urllib.request.urlretrieve(url, filename)"
   ]
  },
  {
   "cell_type": "code",
   "execution_count": null,
   "id": "58b472ec-8879-4bf9-aa75-1d3d241beb53",
   "metadata": {},
   "outputs": [],
   "source": [
    "# Extract plain text from the dataset\n",
    "class WikiCorpus(gensim.corpora.WikiCorpus):\n",
    "    def get_texts(self):\n",
    "        for text in super().get_texts():\n",
    "            yield [word.lower() for word in text if word.isalpha()]"
   ]
  },
  {
   "cell_type": "code",
   "execution_count": null,
   "id": "53bae688-5ad5-42c3-b6bb-b3a44c4ed2d2",
   "metadata": {},
   "outputs": [],
   "source": [
    "corpus = WikiCorpus(filename)"
   ]
  },
  {
   "cell_type": "code",
   "execution_count": null,
   "id": "89d5fa7e-b822-4608-b817-0945c5635486",
   "metadata": {},
   "outputs": [],
   "source": [
    "# Train the Word2Vec model\n",
    "logging.basicConfig(format='%(asctime)s : %(levelname)s : %(message)s', level=logging.INFO)\n",
    "model = gensim.models.Word2Vec(corpus=corpus, size=100, window=5, min_count=5, workers=4, sg=1)\n",
    "model.save(\"wikipedia_word2vec.model\")"
   ]
  }
 ],
 "metadata": {
  "kernelspec": {
   "display_name": "Python 3 (ipykernel)",
   "language": "python",
   "name": "python3"
  },
  "language_info": {
   "codemirror_mode": {
    "name": "ipython",
    "version": 3
   },
   "file_extension": ".py",
   "mimetype": "text/x-python",
   "name": "python",
   "nbconvert_exporter": "python",
   "pygments_lexer": "ipython3",
   "version": "3.9.16"
  }
 },
 "nbformat": 4,
 "nbformat_minor": 5
}
