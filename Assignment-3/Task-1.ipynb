{
 "cells": [
  {
   "cell_type": "code",
   "execution_count": 1,
   "id": "f217f939-1959-40c4-a1c1-2222fdf9570e",
   "metadata": {},
   "outputs": [],
   "source": [
    "import nltk\n",
    "from nltk.corpus import movie_reviews\n",
    "from gensim.models import Word2Vec\n",
    "import logging"
   ]
  },
  {
   "cell_type": "code",
   "execution_count": 2,
   "id": "87339796-f14b-4437-9d54-fc55ad05c1ed",
   "metadata": {},
   "outputs": [
    {
     "name": "stderr",
     "output_type": "stream",
     "text": [
      "[nltk_data] Downloading package movie_reviews to\n",
      "[nltk_data]     C:\\Users\\kbkdf\\AppData\\Roaming\\nltk_data...\n",
      "[nltk_data]   Package movie_reviews is already up-to-date!\n"
     ]
    },
    {
     "data": {
      "text/plain": [
       "True"
      ]
     },
     "execution_count": 2,
     "metadata": {},
     "output_type": "execute_result"
    }
   ],
   "source": [
    "# Download the Movie Review Data from NLTK library\n",
    "nltk.download('movie_reviews')"
   ]
  },
  {
   "cell_type": "code",
   "execution_count": 3,
   "id": "dc95ecf3-4105-4977-a1f4-75ef78840987",
   "metadata": {},
   "outputs": [],
   "source": [
    "# Preprocess corpus\n",
    "corpus = []\n",
    "for fileid in movie_reviews.fileids():\n",
    "    words = movie_reviews.words(fileid)\n",
    "    words = [word.lower() for word in words if word.isalpha()]\n",
    "    corpus.append(words)"
   ]
  },
  {
   "cell_type": "code",
   "execution_count": 4,
   "id": "6094e7fb-7143-45d0-ace8-02f42a44b120",
   "metadata": {},
   "outputs": [],
   "source": [
    "# Train the Word2Vec model\n",
    "#logging.basicConfig(format='%(asctime)s : %(levelname)s : %(message)s', level=logging.INFO)\n",
    "model = Word2Vec(corpus, vector_size=300, window=5, min_count=5, workers=4, sg=1)"
   ]
  },
  {
   "cell_type": "code",
   "execution_count": 5,
   "id": "c29eb8c9-2657-4895-94eb-8f85ba3bcdf0",
   "metadata": {},
   "outputs": [],
   "source": [
    "# Save the trained model\n",
    "model.wv.save_word2vec_format(\"own_word2vec.model\", binary=True)"
   ]
  },
  {
   "cell_type": "code",
   "execution_count": 6,
   "id": "5f3cdc29-6f75-4112-ab8f-5562f72db3c9",
   "metadata": {},
   "outputs": [],
   "source": [
    "wv = model.wv"
   ]
  },
  {
   "cell_type": "code",
   "execution_count": 7,
   "id": "2dd49c11-c2ed-4ffc-afff-5928aa20257e",
   "metadata": {},
   "outputs": [
    {
     "data": {
      "text/plain": [
       "14565"
      ]
     },
     "execution_count": 7,
     "metadata": {},
     "output_type": "execute_result"
    }
   ],
   "source": [
    "len(wv.index_to_key)"
   ]
  },
  {
   "cell_type": "code",
   "execution_count": 8,
   "id": "4735ee0c-3b2b-482e-a220-0e9ddb664a3e",
   "metadata": {},
   "outputs": [
    {
     "data": {
      "text/plain": [
       "(14565, 300)"
      ]
     },
     "execution_count": 8,
     "metadata": {},
     "output_type": "execute_result"
    }
   ],
   "source": [
    "wv.vectors.shape"
   ]
  },
  {
   "cell_type": "code",
   "execution_count": 9,
   "id": "719f53d0-d1bf-41a0-a764-4cb00e62ef56",
   "metadata": {},
   "outputs": [
    {
     "data": {
      "text/plain": [
       "14565"
      ]
     },
     "execution_count": 9,
     "metadata": {},
     "output_type": "execute_result"
    }
   ],
   "source": [
    "len(model.wv)"
   ]
  },
  {
   "cell_type": "code",
   "execution_count": 10,
   "id": "72ab65a3-7f6c-444d-8fab-09159e1d63ba",
   "metadata": {},
   "outputs": [
    {
     "name": "stdout",
     "output_type": "stream",
     "text": [
      "[-0.09862892  0.12682892  0.08832495 -0.08298697 -0.18574193  0.01984984\n",
      "  0.05253318  0.11891121 -0.05712228 -0.16360627  0.081439   -0.17657688\n",
      " -0.1047062   0.00886398  0.04974864 -0.14543836  0.13635701 -0.0919715\n",
      "  0.03300837 -0.12420316 -0.24252748 -0.09529653 -0.00142245  0.03351174\n",
      " -0.11305257  0.10126898 -0.30332357 -0.06719478 -0.12351224 -0.27080542\n",
      "  0.03324622  0.05292456  0.17811593  0.11926989 -0.16637133  0.13927798\n",
      "  0.15412572 -0.07618576 -0.03266949  0.07107492  0.03194993 -0.09118931\n",
      " -0.00227125 -0.10213202  0.19811381  0.00046342  0.05631704 -0.00746986\n",
      " -0.00691759  0.01860763  0.23014027 -0.08025333  0.04226061 -0.02760505\n",
      "  0.09560128  0.06497326  0.18903774  0.03026092  0.03968952 -0.07913397\n",
      " -0.03791451  0.04871343  0.05816659 -0.16626976 -0.06630825  0.01177165\n",
      " -0.08662445  0.17263874 -0.07389774  0.09997602  0.12005635 -0.08254605\n",
      " -0.0023866  -0.12395692 -0.12273522  0.06542546 -0.00261771 -0.04606329\n",
      " -0.11851356  0.26659507 -0.01138702 -0.22349206  0.14289136  0.30799466\n",
      "  0.14686096  0.08852974 -0.19154072  0.02318731  0.2493106   0.252276\n",
      "  0.19812948 -0.10440816 -0.03578357 -0.03504444  0.17083335  0.07279301\n",
      "  0.17898701  0.02856464  0.03365542 -0.00384645 -0.13133098  0.10900651\n",
      "  0.08013241 -0.02755529 -0.17556398 -0.07658935  0.0254659   0.10129561\n",
      " -0.27082098  0.09848842 -0.17185469  0.0721066  -0.02417056 -0.12558658\n",
      " -0.1717058   0.06396508  0.13335808  0.03919137  0.09381744 -0.1656257\n",
      "  0.04913874  0.194499    0.26631027  0.05361919  0.09255467  0.14542317\n",
      "  0.15878168 -0.22398312 -0.01167422  0.31913465  0.11687753  0.14420547\n",
      "  0.10192674 -0.33464184 -0.04229878  0.15244834 -0.14026356  0.16313338\n",
      " -0.1815147  -0.07926034 -0.04182423 -0.35887015  0.07312465 -0.17876181\n",
      "  0.04060787 -0.06964588  0.00521494 -0.2352135   0.15679236  0.01224201\n",
      "  0.0438742  -0.26533604 -0.19284664 -0.14931223  0.12348102  0.03778032\n",
      " -0.33785585 -0.2029433   0.07914679  0.14881577  0.07917732  0.05783824\n",
      " -0.086884   -0.03976312  0.00490388  0.0667346  -0.11885625  0.00967188\n",
      "  0.00361839  0.21482396 -0.18725772  0.09578009 -0.0086972  -0.05067203\n",
      "  0.11844141  0.16928904  0.00972526  0.05964917  0.00943561 -0.04268049\n",
      " -0.00512899  0.27401906 -0.136556    0.1717317  -0.04086028  0.0094864\n",
      "  0.16186598  0.14218487  0.1067026  -0.26585928  0.08847356 -0.06766578\n",
      " -0.13566615  0.06485153 -0.00993632 -0.04718061  0.20143007  0.06272037\n",
      "  0.02108916  0.04499019 -0.15798175 -0.01493675 -0.03203097 -0.07948465\n",
      "  0.0504109  -0.0269722  -0.01048802  0.2575274  -0.12604962 -0.18419446\n",
      "  0.00335601 -0.18374817  0.02297028 -0.1258542   0.02940175  0.02917678\n",
      " -0.09637167 -0.32575265 -0.18798502 -0.06970863  0.17752095  0.04901702\n",
      "  0.02646431 -0.09882314 -0.2022957   0.07537056  0.09261683 -0.01203059\n",
      " -0.01675045  0.00602641  0.06950849 -0.04297743  0.0426602   0.08952726\n",
      " -0.07235204  0.17789648  0.25175914 -0.17011726 -0.02613825 -0.07845044\n",
      "  0.11119775 -0.05712786  0.13008441  0.22428559  0.05836923  0.05579517\n",
      " -0.15671214 -0.03793081 -0.09956925  0.1347681   0.00872782  0.10697077\n",
      " -0.04462761  0.05356123 -0.17719069 -0.1327076   0.09656041 -0.05474333\n",
      " -0.14635907  0.12960058  0.06279872  0.03268596  0.09190454 -0.2352541\n",
      " -0.19806483 -0.06926116  0.10662201 -0.05888233 -0.25058737 -0.00177855\n",
      " -0.18964514 -0.04430752 -0.03003064  0.10326254  0.1056366  -0.07167469\n",
      "  0.14226755 -0.10909052 -0.08454547  0.0223838  -0.1564523   0.12875208\n",
      "  0.07289412  0.10674617 -0.01276279  0.1692416  -0.1760291   0.24569528\n",
      "  0.08079981 -0.11563845  0.2104537   0.24209999  0.02077725  0.03961239\n",
      "  0.08143754  0.10175328  0.07207224 -0.16399771  0.04322999  0.04526648]\n"
     ]
    }
   ],
   "source": [
    "print(model.wv['pain'])"
   ]
  },
  {
   "cell_type": "code",
   "execution_count": 11,
   "id": "94b689c8-4345-4d02-8b85-2eabefd6fe79",
   "metadata": {},
   "outputs": [
    {
     "ename": "KeyError",
     "evalue": "\"Key 'covid' not present in vocabulary\"",
     "output_type": "error",
     "traceback": [
      "\u001b[1;31m---------------------------------------------------------------------------\u001b[0m",
      "\u001b[1;31mKeyError\u001b[0m                                  Traceback (most recent call last)",
      "Cell \u001b[1;32mIn[11], line 1\u001b[0m\n\u001b[1;32m----> 1\u001b[0m \u001b[38;5;28mprint\u001b[39m(\u001b[43mmodel\u001b[49m\u001b[38;5;241;43m.\u001b[39;49m\u001b[43mwv\u001b[49m\u001b[38;5;241;43m.\u001b[39;49m\u001b[43mmost_similar\u001b[49m\u001b[43m(\u001b[49m\u001b[43mpositive\u001b[49m\u001b[38;5;241;43m=\u001b[39;49m\u001b[43m[\u001b[49m\u001b[38;5;124;43m'\u001b[39;49m\u001b[38;5;124;43mcovid\u001b[39;49m\u001b[38;5;124;43m'\u001b[39;49m\u001b[43m]\u001b[49m\u001b[43m,\u001b[49m\u001b[43m \u001b[49m\u001b[43mtopn\u001b[49m\u001b[38;5;241;43m=\u001b[39;49m\u001b[38;5;241;43m20\u001b[39;49m\u001b[43m)\u001b[49m)\n",
      "File \u001b[1;32m~\\Anaconda3\\envs\\pytorch\\lib\\site-packages\\gensim\\models\\keyedvectors.py:841\u001b[0m, in \u001b[0;36mKeyedVectors.most_similar\u001b[1;34m(self, positive, negative, topn, clip_start, clip_end, restrict_vocab, indexer)\u001b[0m\n\u001b[0;32m    838\u001b[0m         weight[idx] \u001b[38;5;241m=\u001b[39m item[\u001b[38;5;241m1\u001b[39m]\n\u001b[0;32m    840\u001b[0m \u001b[38;5;66;03m# compute the weighted average of all keys\u001b[39;00m\n\u001b[1;32m--> 841\u001b[0m mean \u001b[38;5;241m=\u001b[39m \u001b[38;5;28;43mself\u001b[39;49m\u001b[38;5;241;43m.\u001b[39;49m\u001b[43mget_mean_vector\u001b[49m\u001b[43m(\u001b[49m\u001b[43mkeys\u001b[49m\u001b[43m,\u001b[49m\u001b[43m \u001b[49m\u001b[43mweight\u001b[49m\u001b[43m,\u001b[49m\u001b[43m \u001b[49m\u001b[43mpre_normalize\u001b[49m\u001b[38;5;241;43m=\u001b[39;49m\u001b[38;5;28;43;01mTrue\u001b[39;49;00m\u001b[43m,\u001b[49m\u001b[43m \u001b[49m\u001b[43mpost_normalize\u001b[49m\u001b[38;5;241;43m=\u001b[39;49m\u001b[38;5;28;43;01mTrue\u001b[39;49;00m\u001b[43m,\u001b[49m\u001b[43m \u001b[49m\u001b[43mignore_missing\u001b[49m\u001b[38;5;241;43m=\u001b[39;49m\u001b[38;5;28;43;01mFalse\u001b[39;49;00m\u001b[43m)\u001b[49m\n\u001b[0;32m    842\u001b[0m all_keys \u001b[38;5;241m=\u001b[39m [\n\u001b[0;32m    843\u001b[0m     \u001b[38;5;28mself\u001b[39m\u001b[38;5;241m.\u001b[39mget_index(key) \u001b[38;5;28;01mfor\u001b[39;00m key \u001b[38;5;129;01min\u001b[39;00m keys \u001b[38;5;28;01mif\u001b[39;00m \u001b[38;5;28misinstance\u001b[39m(key, _KEY_TYPES) \u001b[38;5;129;01mand\u001b[39;00m \u001b[38;5;28mself\u001b[39m\u001b[38;5;241m.\u001b[39mhas_index_for(key)\n\u001b[0;32m    844\u001b[0m ]\n\u001b[0;32m    846\u001b[0m \u001b[38;5;28;01mif\u001b[39;00m indexer \u001b[38;5;129;01mis\u001b[39;00m \u001b[38;5;129;01mnot\u001b[39;00m \u001b[38;5;28;01mNone\u001b[39;00m \u001b[38;5;129;01mand\u001b[39;00m \u001b[38;5;28misinstance\u001b[39m(topn, \u001b[38;5;28mint\u001b[39m):\n",
      "File \u001b[1;32m~\\Anaconda3\\envs\\pytorch\\lib\\site-packages\\gensim\\models\\keyedvectors.py:518\u001b[0m, in \u001b[0;36mKeyedVectors.get_mean_vector\u001b[1;34m(self, keys, weights, pre_normalize, post_normalize, ignore_missing)\u001b[0m\n\u001b[0;32m    516\u001b[0m         total_weight \u001b[38;5;241m+\u001b[39m\u001b[38;5;241m=\u001b[39m \u001b[38;5;28mabs\u001b[39m(weights[idx])\n\u001b[0;32m    517\u001b[0m     \u001b[38;5;28;01melif\u001b[39;00m \u001b[38;5;129;01mnot\u001b[39;00m ignore_missing:\n\u001b[1;32m--> 518\u001b[0m         \u001b[38;5;28;01mraise\u001b[39;00m \u001b[38;5;167;01mKeyError\u001b[39;00m(\u001b[38;5;124mf\u001b[39m\u001b[38;5;124m\"\u001b[39m\u001b[38;5;124mKey \u001b[39m\u001b[38;5;124m'\u001b[39m\u001b[38;5;132;01m{\u001b[39;00mkey\u001b[38;5;132;01m}\u001b[39;00m\u001b[38;5;124m'\u001b[39m\u001b[38;5;124m not present in vocabulary\u001b[39m\u001b[38;5;124m\"\u001b[39m)\n\u001b[0;32m    520\u001b[0m \u001b[38;5;28;01mif\u001b[39;00m total_weight \u001b[38;5;241m>\u001b[39m \u001b[38;5;241m0\u001b[39m:\n\u001b[0;32m    521\u001b[0m     mean \u001b[38;5;241m=\u001b[39m mean \u001b[38;5;241m/\u001b[39m total_weight\n",
      "\u001b[1;31mKeyError\u001b[0m: \"Key 'covid' not present in vocabulary\""
     ]
    }
   ],
   "source": [
    "print(model.wv.most_similar(positive=['covid'], topn=20))"
   ]
  },
  {
   "cell_type": "code",
   "execution_count": null,
   "id": "02164ce4-3a0e-4b4c-8e36-b5ea5d0534d4",
   "metadata": {},
   "outputs": [],
   "source": []
  }
 ],
 "metadata": {
  "kernelspec": {
   "display_name": "Python 3 (ipykernel)",
   "language": "python",
   "name": "python3"
  },
  "language_info": {
   "codemirror_mode": {
    "name": "ipython",
    "version": 3
   },
   "file_extension": ".py",
   "mimetype": "text/x-python",
   "name": "python",
   "nbconvert_exporter": "python",
   "pygments_lexer": "ipython3",
   "version": "3.9.16"
  }
 },
 "nbformat": 4,
 "nbformat_minor": 5
}
