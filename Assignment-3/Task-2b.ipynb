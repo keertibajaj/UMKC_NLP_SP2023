{
 "cells": [
  {
   "cell_type": "code",
   "execution_count": 1,
   "id": "778df2f4-b209-40f9-a4f7-238c17693523",
   "metadata": {},
   "outputs": [],
   "source": [
    "# Load the embeddings\n",
    "from gensim.models import KeyedVectors\n",
    "from gensim.models import Word2Vec\n",
    "import numpy as np\n",
    "from tqdm import tqdm\n",
    "import tensorflow as tf\n",
    "from tensorflow.keras.preprocessing.text import Tokenizer\n",
    "from tensorflow.keras.preprocessing.sequence import pad_sequences\n",
    "from tensorflow.keras.layers import Input, Embedding, LSTM, Dense, Dropout\n",
    "from tensorflow.keras.models import Model\n",
    "from sklearn.model_selection import train_test_split\n",
    "from sklearn.metrics import accuracy_score"
   ]
  },
  {
   "cell_type": "code",
   "execution_count": 2,
   "id": "be19b747-531e-4d25-9901-52df9b4b7cd0",
   "metadata": {},
   "outputs": [],
   "source": [
    "# Load our own Word2Vec embedding\n",
    "own_w2v = KeyedVectors.load_word2vec_format(\"own_word2vec.model\", binary=True)"
   ]
  },
  {
   "cell_type": "code",
   "execution_count": 3,
   "id": "d963127e-32ba-42f3-82de-60dc6ffa746f",
   "metadata": {},
   "outputs": [],
   "source": [
    "# Load pre-trained Word2Vec embedding\n",
    "google_w2v = KeyedVectors.load_word2vec_format(\"GoogleNews-vectors-negative300.bin\", binary=True)"
   ]
  },
  {
   "cell_type": "code",
   "execution_count": 4,
   "id": "7a5cd093-468c-4af9-89f4-ba8c5a762fb0",
   "metadata": {},
   "outputs": [
    {
     "name": "stderr",
     "output_type": "stream",
     "text": [
      "Loading embeddings: 400000it [00:24, 16637.98it/s]\n"
     ]
    }
   ],
   "source": [
    "glove_file = \"glove.6B.300d.txt\"\n",
    "glove_embeddings = dict()\n",
    "\n",
    "with open(glove_file, \"r\", encoding = \"utf-8\") as file:\n",
    "    for line in tqdm(file, desc=\"Loading embeddings\"):\n",
    "        values = line.split()\n",
    "        word = values[0]\n",
    "        try:\n",
    "            vector = np.asarray(values[1:], dtype=np.float32)\n",
    "            glove_embeddings[word] = vector\n",
    "        except ValueError:\n",
    "            print(\"Could not convert values to float: \")\n",
    "        glove_embeddings[word] = vector\n",
    "        \n",
    "glove_w2v = Word2Vec(\n",
    "    sentences=None,  # Don't train on any text data\n",
    "    vector_size=300,  # Set the embedding dimension\n",
    "    min_count=1,  # Include all words in the dictionary\n",
    ")\n",
    "glove_w2v.wv.add_vectors(list(glove_embeddings.keys()), list(glove_embeddings.values()))"
   ]
  },
  {
   "cell_type": "code",
   "execution_count": 5,
   "id": "9bebc073-9a63-4d2a-ab85-65b625fac2a5",
   "metadata": {},
   "outputs": [],
   "source": [
    "# Load the dataset (e.g., IMDB movie reviews)\n",
    "(x_train, y_train), (x_test, y_test) = tf.keras.datasets.imdb.load_data(num_words=10000)"
   ]
  },
  {
   "cell_type": "code",
   "execution_count": 6,
   "id": "613da2a2-c34d-4451-bd68-1399a184eb39",
   "metadata": {},
   "outputs": [],
   "source": [
    "# Convert the word IDs to text\n",
    "word_index = tf.keras.datasets.imdb.get_word_index()\n",
    "reverse_word_index = dict([(value, key) for (key, value) in word_index.items()])\n",
    "x_train_text = [' '.join([reverse_word_index.get(i - 3, '?') for i in x]) for x in x_train]\n",
    "x_test_text = [' '.join([reverse_word_index.get(i - 3, '?') for i in x]) for x in x_test]"
   ]
  },
  {
   "cell_type": "code",
   "execution_count": 7,
   "id": "7ad6358f-6dca-4d82-93dd-44e408a7c484",
   "metadata": {},
   "outputs": [],
   "source": [
    "# Tokenize the text and pad the sequences\n",
    "tokenizer = Tokenizer(num_words=10000)\n",
    "tokenizer.fit_on_texts(x_train_text)\n",
    "x_train_seq = tokenizer.texts_to_sequences(x_train_text)\n",
    "x_test_seq = tokenizer.texts_to_sequences(x_test_text)\n",
    "x_train_pad = pad_sequences(x_train_seq, maxlen=100)\n",
    "x_test_pad = pad_sequences(x_test_seq, maxlen=100)"
   ]
  },
  {
   "cell_type": "code",
   "execution_count": 8,
   "id": "b61d5fa8-0204-431d-994f-77c22fac22b7",
   "metadata": {},
   "outputs": [],
   "source": [
    "# Define own word2vec embedding layers\n",
    "pretrained_own_emb_layer = Embedding(input_dim = own_w2v.vectors.shape[0], output_dim = 300, input_length = 100,\n",
    "                                     weights = [own_w2v.vectors], trainable = False)\n",
    "# Define google word2vec embedding layers\n",
    "pretrained_google_emb_layer = Embedding(input_dim = google_w2v.vectors.shape[0], output_dim = 300, input_length = 100,\n",
    "                                     weights = [google_w2v.vectors], trainable = False)\n",
    "# Define glove word2vec embedding layers\n",
    "pretrained_glove_emb_layer = Embedding(input_dim = glove_w2v.wv.vectors.shape[0], output_dim = 300, input_length = 100,\n",
    "                                       weights = [glove_w2v.wv.vectors], trainable = False)"
   ]
  },
  {
   "cell_type": "markdown",
   "id": "35913a0a-fe40-45f3-add9-3943f2e0e0c0",
   "metadata": {},
   "source": [
    "### Own Word2vec Model"
   ]
  },
  {
   "cell_type": "code",
   "execution_count": 9,
   "id": "4bf5ecc0-98cb-4666-9d8b-ea2c2b0ae456",
   "metadata": {},
   "outputs": [],
   "source": [
    "# Define the neural network architecture\n",
    "input_layer = Input(shape=(100,))\n",
    "emb_layer = pretrained_own_emb_layer(input_layer)\n",
    "lstm_layer = LSTM(units=64, dropout=0.2, recurrent_dropout=0.2)(emb_layer)\n",
    "dropout_layer = Dropout(rate=0.2)(lstm_layer)\n",
    "output_layer = Dense(units=1, activation='sigmoid')(dropout_layer)"
   ]
  },
  {
   "cell_type": "code",
   "execution_count": 10,
   "id": "3525c470-25a9-4c72-a8c3-2178c16c6d08",
   "metadata": {},
   "outputs": [
    {
     "name": "stdout",
     "output_type": "stream",
     "text": [
      "Model: \"model\"\n",
      "_________________________________________________________________\n",
      " Layer (type)                Output Shape              Param #   \n",
      "=================================================================\n",
      " input_1 (InputLayer)        [(None, 100)]             0         \n",
      "                                                                 \n",
      " embedding (Embedding)       (None, 100, 300)          4369500   \n",
      "                                                                 \n",
      " lstm (LSTM)                 (None, 64)                93440     \n",
      "                                                                 \n",
      " dropout (Dropout)           (None, 64)                0         \n",
      "                                                                 \n",
      " dense (Dense)               (None, 1)                 65        \n",
      "                                                                 \n",
      "=================================================================\n",
      "Total params: 4,463,005\n",
      "Trainable params: 93,505\n",
      "Non-trainable params: 4,369,500\n",
      "_________________________________________________________________\n",
      "None\n"
     ]
    }
   ],
   "source": [
    "# Define the model\n",
    "model = Model(inputs=input_layer, outputs=output_layer)\n",
    "model.compile(optimizer='adam', loss='binary_crossentropy', metrics=['accuracy'])\n",
    "print(model.summary())"
   ]
  },
  {
   "cell_type": "code",
   "execution_count": 11,
   "id": "00f5d862-c0a8-46bf-abdf-631b4098f165",
   "metadata": {},
   "outputs": [
    {
     "name": "stdout",
     "output_type": "stream",
     "text": [
      "Epoch 1/10\n",
      "157/157 [==============================] - 35s 211ms/step - loss: 0.6703 - accuracy: 0.5760 - val_loss: 0.6432 - val_accuracy: 0.6178\n",
      "Epoch 2/10\n",
      "157/157 [==============================] - 38s 243ms/step - loss: 0.6172 - accuracy: 0.6564 - val_loss: 0.6054 - val_accuracy: 0.6662\n",
      "Epoch 3/10\n",
      "157/157 [==============================] - 47s 298ms/step - loss: 0.5983 - accuracy: 0.6750 - val_loss: 0.6317 - val_accuracy: 0.6370\n",
      "Epoch 4/10\n",
      "157/157 [==============================] - 48s 306ms/step - loss: 0.5635 - accuracy: 0.7066 - val_loss: 0.5543 - val_accuracy: 0.7170\n",
      "Epoch 5/10\n",
      "157/157 [==============================] - 51s 326ms/step - loss: 0.5415 - accuracy: 0.7198 - val_loss: 0.4960 - val_accuracy: 0.7558\n",
      "Epoch 6/10\n",
      "157/157 [==============================] - 49s 315ms/step - loss: 0.5086 - accuracy: 0.7480 - val_loss: 0.4758 - val_accuracy: 0.7712\n",
      "Epoch 7/10\n",
      "157/157 [==============================] - 51s 328ms/step - loss: 0.4763 - accuracy: 0.7704 - val_loss: 0.4583 - val_accuracy: 0.7812\n",
      "Epoch 8/10\n",
      "157/157 [==============================] - 54s 346ms/step - loss: 0.4639 - accuracy: 0.7750 - val_loss: 0.4527 - val_accuracy: 0.7818\n",
      "Epoch 9/10\n",
      "157/157 [==============================] - 54s 342ms/step - loss: 0.4463 - accuracy: 0.7854 - val_loss: 0.4317 - val_accuracy: 0.7926\n",
      "Epoch 10/10\n",
      "157/157 [==============================] - 54s 346ms/step - loss: 0.4323 - accuracy: 0.7953 - val_loss: 0.4349 - val_accuracy: 0.7958\n"
     ]
    },
    {
     "data": {
      "text/plain": [
       "<keras.callbacks.History at 0x2cd147b5cd0>"
      ]
     },
     "execution_count": 11,
     "metadata": {},
     "output_type": "execute_result"
    }
   ],
   "source": [
    "# Train the model\n",
    "model.fit(x_train_pad, y_train, batch_size=128, epochs=10, validation_split=0.2)"
   ]
  },
  {
   "cell_type": "code",
   "execution_count": 12,
   "id": "e1356018-05aa-410b-8388-70c6efaffc0c",
   "metadata": {},
   "outputs": [
    {
     "name": "stdout",
     "output_type": "stream",
     "text": [
      "782/782 [==============================] - 35s 45ms/step\n",
      "Accuracy: 0.79084\n"
     ]
    }
   ],
   "source": [
    "# Evaluate the model\n",
    "y_pred = model.predict(x_test_pad) > 0.5\n",
    "acc = accuracy_score(y_test, y_pred)\n",
    "print('Accuracy:', acc)"
   ]
  },
  {
   "cell_type": "markdown",
   "id": "b82bf018-c2a3-43a6-8176-993da7eeb31a",
   "metadata": {},
   "source": [
    "### Google Word2vec Model"
   ]
  },
  {
   "cell_type": "code",
   "execution_count": 13,
   "id": "f44fccd7-bdd4-47ae-87ad-8288c4c9d0f8",
   "metadata": {},
   "outputs": [],
   "source": [
    "# Define the neural network architecture\n",
    "input_layer = Input(shape=(100,))\n",
    "emb_layer = pretrained_google_emb_layer(input_layer)\n",
    "lstm_layer = LSTM(units=64, dropout=0.2, recurrent_dropout=0.2)(emb_layer)\n",
    "dropout_layer = Dropout(rate=0.2)(lstm_layer)\n",
    "output_layer = Dense(units=1, activation='sigmoid')(dropout_layer)"
   ]
  },
  {
   "cell_type": "code",
   "execution_count": 14,
   "id": "75dbc5d9-bb16-4156-9e57-21dc52188a37",
   "metadata": {},
   "outputs": [
    {
     "name": "stdout",
     "output_type": "stream",
     "text": [
      "Model: \"model_1\"\n",
      "_________________________________________________________________\n",
      " Layer (type)                Output Shape              Param #   \n",
      "=================================================================\n",
      " input_2 (InputLayer)        [(None, 100)]             0         \n",
      "                                                                 \n",
      " embedding_1 (Embedding)     (None, 100, 300)          900000000 \n",
      "                                                                 \n",
      " lstm_1 (LSTM)               (None, 64)                93440     \n",
      "                                                                 \n",
      " dropout_1 (Dropout)         (None, 64)                0         \n",
      "                                                                 \n",
      " dense_1 (Dense)             (None, 1)                 65        \n",
      "                                                                 \n",
      "=================================================================\n",
      "Total params: 900,093,505\n",
      "Trainable params: 93,505\n",
      "Non-trainable params: 900,000,000\n",
      "_________________________________________________________________\n",
      "None\n"
     ]
    }
   ],
   "source": [
    "# Define the model\n",
    "model = Model(inputs=input_layer, outputs=output_layer)\n",
    "model.compile(optimizer='adam', loss='binary_crossentropy', metrics=['accuracy'])\n",
    "print(model.summary())"
   ]
  },
  {
   "cell_type": "code",
   "execution_count": 15,
   "id": "f0e60dab-c9c3-40ac-85f1-6ec9b215f624",
   "metadata": {},
   "outputs": [
    {
     "name": "stdout",
     "output_type": "stream",
     "text": [
      "Epoch 1/10\n",
      "157/157 [==============================] - 44s 267ms/step - loss: 0.6727 - accuracy: 0.5762 - val_loss: 0.6444 - val_accuracy: 0.6180\n",
      "Epoch 2/10\n",
      "157/157 [==============================] - 46s 296ms/step - loss: 0.6202 - accuracy: 0.6519 - val_loss: 0.5811 - val_accuracy: 0.6976\n",
      "Epoch 3/10\n",
      "157/157 [==============================] - 48s 305ms/step - loss: 0.5868 - accuracy: 0.6887 - val_loss: 0.5703 - val_accuracy: 0.6982\n",
      "Epoch 4/10\n",
      "157/157 [==============================] - 49s 311ms/step - loss: 0.5584 - accuracy: 0.7117 - val_loss: 0.5380 - val_accuracy: 0.7278\n",
      "Epoch 5/10\n",
      "157/157 [==============================] - 48s 305ms/step - loss: 0.5356 - accuracy: 0.7268 - val_loss: 0.5175 - val_accuracy: 0.7416\n",
      "Epoch 6/10\n",
      "157/157 [==============================] - 49s 310ms/step - loss: 0.5211 - accuracy: 0.7383 - val_loss: 0.5811 - val_accuracy: 0.7096\n",
      "Epoch 7/10\n",
      "157/157 [==============================] - 49s 312ms/step - loss: 0.5056 - accuracy: 0.7489 - val_loss: 0.4779 - val_accuracy: 0.7708\n",
      "Epoch 8/10\n",
      "157/157 [==============================] - 50s 316ms/step - loss: 0.4782 - accuracy: 0.7692 - val_loss: 0.4840 - val_accuracy: 0.7632\n",
      "Epoch 9/10\n",
      "157/157 [==============================] - 53s 335ms/step - loss: 0.4534 - accuracy: 0.7807 - val_loss: 0.4477 - val_accuracy: 0.7892\n",
      "Epoch 10/10\n",
      "157/157 [==============================] - 52s 331ms/step - loss: 0.4282 - accuracy: 0.7983 - val_loss: 0.4328 - val_accuracy: 0.7982\n"
     ]
    },
    {
     "data": {
      "text/plain": [
       "<keras.callbacks.History at 0x2cd0efc19a0>"
      ]
     },
     "execution_count": 15,
     "metadata": {},
     "output_type": "execute_result"
    }
   ],
   "source": [
    "# Train the model\n",
    "model.fit(x_train_pad, y_train, batch_size=128, epochs=10, validation_split=0.2)"
   ]
  },
  {
   "cell_type": "code",
   "execution_count": 16,
   "id": "f4587ced-edc6-4fa9-b358-36d4635adf1e",
   "metadata": {},
   "outputs": [
    {
     "name": "stdout",
     "output_type": "stream",
     "text": [
      "782/782 [==============================] - 39s 49ms/step\n",
      "Accuracy: 0.79248\n"
     ]
    }
   ],
   "source": [
    "# Evaluate the model\n",
    "y_pred = model.predict(x_test_pad) > 0.5\n",
    "acc = accuracy_score(y_test, y_pred)\n",
    "print('Accuracy:', acc)"
   ]
  },
  {
   "cell_type": "markdown",
   "id": "b6bf37a5-189d-44a6-bd23-0bf369eebf6f",
   "metadata": {},
   "source": [
    "### GloVe Word2vec Model"
   ]
  },
  {
   "cell_type": "code",
   "execution_count": 17,
   "id": "ea5705b8-4660-48dc-bea8-ceab31717c95",
   "metadata": {},
   "outputs": [],
   "source": [
    "# Define the neural network architecture\n",
    "input_layer = Input(shape=(100,))\n",
    "emb_layer = pretrained_glove_emb_layer(input_layer)\n",
    "lstm_layer = LSTM(units=64, dropout=0.2, recurrent_dropout=0.2)(emb_layer)\n",
    "dropout_layer = Dropout(rate=0.2)(lstm_layer)\n",
    "output_layer = Dense(units=1, activation='sigmoid')(dropout_layer)"
   ]
  },
  {
   "cell_type": "code",
   "execution_count": 18,
   "id": "a8f27a78-32f9-411f-a46c-9f62f73f6c12",
   "metadata": {},
   "outputs": [
    {
     "name": "stdout",
     "output_type": "stream",
     "text": [
      "Model: \"model_2\"\n",
      "_________________________________________________________________\n",
      " Layer (type)                Output Shape              Param #   \n",
      "=================================================================\n",
      " input_3 (InputLayer)        [(None, 100)]             0         \n",
      "                                                                 \n",
      " embedding_2 (Embedding)     (None, 100, 300)          120000000 \n",
      "                                                                 \n",
      " lstm_2 (LSTM)               (None, 64)                93440     \n",
      "                                                                 \n",
      " dropout_2 (Dropout)         (None, 64)                0         \n",
      "                                                                 \n",
      " dense_2 (Dense)             (None, 1)                 65        \n",
      "                                                                 \n",
      "=================================================================\n",
      "Total params: 120,093,505\n",
      "Trainable params: 93,505\n",
      "Non-trainable params: 120,000,000\n",
      "_________________________________________________________________\n",
      "None\n"
     ]
    }
   ],
   "source": [
    "# Define the model\n",
    "model = Model(inputs=input_layer, outputs=output_layer)\n",
    "model.compile(optimizer='adam', loss='binary_crossentropy', metrics=['accuracy'])\n",
    "print(model.summary())"
   ]
  },
  {
   "cell_type": "code",
   "execution_count": 19,
   "id": "94f19d8b-96b3-4d8e-94ff-ce886fbff269",
   "metadata": {},
   "outputs": [
    {
     "name": "stdout",
     "output_type": "stream",
     "text": [
      "Epoch 1/10\n",
      "157/157 [==============================] - 47s 290ms/step - loss: 0.6513 - accuracy: 0.6098 - val_loss: 0.5942 - val_accuracy: 0.6904\n",
      "Epoch 2/10\n",
      "157/157 [==============================] - 46s 295ms/step - loss: 0.5972 - accuracy: 0.6775 - val_loss: 0.6107 - val_accuracy: 0.6768\n",
      "Epoch 3/10\n",
      "157/157 [==============================] - 48s 308ms/step - loss: 0.5489 - accuracy: 0.7178 - val_loss: 0.5476 - val_accuracy: 0.7246\n",
      "Epoch 4/10\n",
      "157/157 [==============================] - 49s 310ms/step - loss: 0.5039 - accuracy: 0.7497 - val_loss: 0.5119 - val_accuracy: 0.7546\n",
      "Epoch 5/10\n",
      "157/157 [==============================] - 52s 333ms/step - loss: 0.4663 - accuracy: 0.7764 - val_loss: 0.4748 - val_accuracy: 0.7708\n",
      "Epoch 6/10\n",
      "157/157 [==============================] - 50s 321ms/step - loss: 0.4285 - accuracy: 0.8001 - val_loss: 0.4899 - val_accuracy: 0.7598\n",
      "Epoch 7/10\n",
      "157/157 [==============================] - 52s 333ms/step - loss: 0.4116 - accuracy: 0.8055 - val_loss: 0.4275 - val_accuracy: 0.7986\n",
      "Epoch 8/10\n",
      "157/157 [==============================] - 50s 318ms/step - loss: 0.3774 - accuracy: 0.8304 - val_loss: 0.4284 - val_accuracy: 0.7952\n",
      "Epoch 9/10\n",
      "157/157 [==============================] - 50s 320ms/step - loss: 0.3533 - accuracy: 0.8449 - val_loss: 0.4171 - val_accuracy: 0.8218\n",
      "Epoch 10/10\n",
      "157/157 [==============================] - 51s 326ms/step - loss: 0.3308 - accuracy: 0.8539 - val_loss: 0.4033 - val_accuracy: 0.8150\n"
     ]
    },
    {
     "data": {
      "text/plain": [
       "<keras.callbacks.History at 0x2cd113ccee0>"
      ]
     },
     "execution_count": 19,
     "metadata": {},
     "output_type": "execute_result"
    }
   ],
   "source": [
    "# Train the model\n",
    "model.fit(x_train_pad, y_train, batch_size=128, epochs=10, validation_split=0.2)"
   ]
  },
  {
   "cell_type": "code",
   "execution_count": 20,
   "id": "44559190-c0c2-458e-87ee-513ac5cc59ae",
   "metadata": {},
   "outputs": [
    {
     "name": "stdout",
     "output_type": "stream",
     "text": [
      "782/782 [==============================] - 52s 67ms/step\n",
      "Accuracy: 0.81812\n"
     ]
    }
   ],
   "source": [
    "# Evaluate the model\n",
    "y_pred = model.predict(x_test_pad) > 0.5\n",
    "acc = accuracy_score(y_test, y_pred)\n",
    "print('Accuracy:', acc)"
   ]
  },
  {
   "cell_type": "code",
   "execution_count": null,
   "id": "d6fa6ef9-e61a-4a28-8271-3652353fb8fd",
   "metadata": {},
   "outputs": [],
   "source": []
  }
 ],
 "metadata": {
  "kernelspec": {
   "display_name": "Python 3 (ipykernel)",
   "language": "python",
   "name": "python3"
  },
  "language_info": {
   "codemirror_mode": {
    "name": "ipython",
    "version": 3
   },
   "file_extension": ".py",
   "mimetype": "text/x-python",
   "name": "python",
   "nbconvert_exporter": "python",
   "pygments_lexer": "ipython3",
   "version": "3.9.16"
  }
 },
 "nbformat": 4,
 "nbformat_minor": 5
}
