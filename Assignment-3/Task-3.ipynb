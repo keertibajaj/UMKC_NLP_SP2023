{
 "cells": [
  {
   "cell_type": "code",
   "execution_count": 1,
   "id": "9e6de3e0-6474-4f16-98f8-bdccbae57e01",
   "metadata": {},
   "outputs": [],
   "source": [
    "# Import necessary libraries\n",
    "import numpy as np\n",
    "import pandas as pd\n",
    "import torch\n",
    "import re\n",
    "from tqdm import tqdm\n",
    "from tabulate import tabulate\n",
    "from nltk.corpus import stopwords\n",
    "from nltk.stem import WordNetLemmatizer\n",
    "from sklearn.linear_model import LogisticRegression\n",
    "from sklearn.preprocessing import LabelEncoder\n",
    "from sklearn.metrics import accuracy_score, f1_score, roc_auc_score, roc_curve\n",
    "from transformers import AutoTokenizer, AutoModel\n",
    "from tensorflow.keras.layers import Input, Dense, Dropout, GlobalAveragePooling1D\n",
    "from tensorflow.keras.models import Model\n",
    "from tensorflow.keras.optimizers import Adam, SGD"
   ]
  },
  {
   "cell_type": "code",
   "execution_count": 2,
   "id": "ebd9b7d0-e721-490c-8dac-bfffb3470222",
   "metadata": {},
   "outputs": [],
   "source": [
    "# Load pre-trained GloVe embeddings\n",
    "glove_embeddings = {}\n",
    "with open('glove.6B.300d.txt', encoding='utf-8') as f:\n",
    "    for line in f:\n",
    "        values = line.split()\n",
    "        word = values[0]\n",
    "        vector = np.asarray(values[1:], dtype='float32')\n",
    "        glove_embeddings[word] = vector"
   ]
  },
  {
   "cell_type": "code",
   "execution_count": 3,
   "id": "fe4028df-4734-41a3-b2db-db03062cabec",
   "metadata": {},
   "outputs": [
    {
     "name": "stderr",
     "output_type": "stream",
     "text": [
      "Some weights of the model checkpoint at bert-base-uncased were not used when initializing BertModel: ['cls.predictions.transform.dense.bias', 'cls.predictions.decoder.weight', 'cls.predictions.transform.LayerNorm.bias', 'cls.predictions.bias', 'cls.seq_relationship.weight', 'cls.seq_relationship.bias', 'cls.predictions.transform.dense.weight', 'cls.predictions.transform.LayerNorm.weight']\n",
      "- This IS expected if you are initializing BertModel from the checkpoint of a model trained on another task or with another architecture (e.g. initializing a BertForSequenceClassification model from a BertForPreTraining model).\n",
      "- This IS NOT expected if you are initializing BertModel from the checkpoint of a model that you expect to be exactly identical (initializing a BertForSequenceClassification model from a BertForSequenceClassification model).\n"
     ]
    }
   ],
   "source": [
    "# Load pre-trained BERT tokenizer and model\n",
    "tokenizer = AutoTokenizer.from_pretrained('bert-base-uncased')\n",
    "bert_model = AutoModel.from_pretrained('bert-base-uncased')"
   ]
  },
  {
   "cell_type": "code",
   "execution_count": 4,
   "id": "2c9f1564-c9ac-4649-b994-dde72a656a8f",
   "metadata": {},
   "outputs": [],
   "source": [
    "# Define a function to generate embeddings for a sentence\n",
    "def generate_embedding(sentence, embedding_type):\n",
    "    if embedding_type == 'glove':\n",
    "        # Generate embedding using GloVe\n",
    "        words = sentence.split()\n",
    "        embedding = np.zeros(300)\n",
    "        for word in words:\n",
    "            if word in glove_embeddings:\n",
    "                embedding += glove_embeddings[word]\n",
    "        return embedding / len(words)\n",
    "    elif embedding_type == 'bert':\n",
    "        # Generate embedding using BERT\n",
    "        tokens = tokenizer.encode(sentence, add_special_tokens=True, truncation=True)\n",
    "        tokens_tensor = torch.tensor([tokens])\n",
    "        with torch.no_grad():\n",
    "            last_hidden_states = bert_model(tokens_tensor)[0]\n",
    "        embedding = last_hidden_states.mean(dim=1).squeeze().numpy()\n",
    "        return embedding\n",
    "    else:\n",
    "        raise ValueError('Invalid embedding type')"
   ]
  },
  {
   "cell_type": "code",
   "execution_count": 5,
   "id": "97de1ddb-ceae-4dcc-8ac8-61b6b27cfbaf",
   "metadata": {},
   "outputs": [],
   "source": [
    "# Load dataset for sentence classification\n",
    "df = pd.read_csv('imdb_reviews.csv')"
   ]
  },
  {
   "cell_type": "code",
   "execution_count": 6,
   "id": "6e900233-055c-465d-acc2-654d9cd621a7",
   "metadata": {},
   "outputs": [],
   "source": [
    "# Data preprocessing\n",
    "stop_words = set(stopwords.words('english'))\n",
    "lemmatizer = WordNetLemmatizer()"
   ]
  },
  {
   "cell_type": "code",
   "execution_count": 7,
   "id": "1d01ccb1-bbc4-4ea4-801f-399b0f0f6f94",
   "metadata": {},
   "outputs": [],
   "source": [
    "def preprocess_text(text):\n",
    "    text = re.sub('<[^>]*>', '', text)  # remove HTML tags\n",
    "    text = re.sub(r'[^\\w\\s]', '', text)  # remove punctuation\n",
    "    text = text.lower()  # convert to lowercase\n",
    "    text = [lemmatizer.lemmatize(w) for w in text.split() if w not in stop_words]  # lemmatization\n",
    "    return ' '.join(text)"
   ]
  },
  {
   "cell_type": "code",
   "execution_count": 8,
   "id": "49e35097-3efe-4d36-944f-39d5bbfeae50",
   "metadata": {},
   "outputs": [],
   "source": [
    "df[\"review\"] = df[\"review\"].apply(preprocess_text)"
   ]
  },
  {
   "cell_type": "code",
   "execution_count": 9,
   "id": "b7ff7ace-121c-431f-8b1e-3cef83413302",
   "metadata": {},
   "outputs": [],
   "source": [
    "le = LabelEncoder()\n",
    "df[\"sentiment\"] = le.fit_transform(df[\"sentiment\"])"
   ]
  },
  {
   "cell_type": "markdown",
   "id": "ea6ef652-5250-47d8-a6ff-acc442403a79",
   "metadata": {},
   "source": [
    "### Get Embeddings"
   ]
  },
  {
   "cell_type": "code",
   "execution_count": 10,
   "id": "13dde2ad-4801-4258-8dcf-f0cd89bb6876",
   "metadata": {},
   "outputs": [],
   "source": [
    "# Generate GloVe embeddings for each sentence\n",
    "glove_embeddings = df[\"review\"].apply(lambda x: generate_embedding(x, 'glove'))\n",
    "glove_embeddings = np.vstack(glove_embeddings)"
   ]
  },
  {
   "cell_type": "code",
   "execution_count": 11,
   "id": "1cc49223-1e6b-472a-862e-1da05ae6f624",
   "metadata": {},
   "outputs": [
    {
     "name": "stderr",
     "output_type": "stream",
     "text": [
      "100%|██████████| 50000/50000 [1:27:45<00:00,  9.50it/s]\n"
     ]
    }
   ],
   "source": [
    "# Generate BERT embeddings for each sentence\n",
    "bert_embeddings = []\n",
    "for sentence in tqdm(df[\"review\"]):\n",
    "    bert_embeddings.append(generate_embedding(sentence, 'bert'))\n",
    "bert_embeddings = np.vstack(bert_embeddings)"
   ]
  },
  {
   "cell_type": "code",
   "execution_count": 12,
   "id": "6fede2a5-9184-4bea-b639-a8612c25d960",
   "metadata": {},
   "outputs": [],
   "source": [
    "# Split dataset into training and testing sets\n",
    "train_size = int(0.8 * len(df))\n",
    "train_data_glove, train_data_bert, train_labels = glove_embeddings[:train_size], bert_embeddings[:train_size], df[\"sentiment\"][:train_size]\n",
    "test_data_glove, test_data_bert, test_labels = glove_embeddings[train_size:], bert_embeddings[train_size:], df[\"sentiment\"][train_size:]"
   ]
  },
  {
   "cell_type": "markdown",
   "id": "801c679f-31a2-44df-9330-9026d8881521",
   "metadata": {
    "tags": []
   },
   "source": [
    "### Metrics"
   ]
  },
  {
   "cell_type": "code",
   "execution_count": 13,
   "id": "d2cefed8-26eb-404b-94ca-171e9dbcf109",
   "metadata": {},
   "outputs": [],
   "source": [
    "def compute_eer(ytrue, ypred):\n",
    "    \"\"\" Returns equal error rate (EER) and the corresponding threshold. \"\"\"\n",
    "    fpr, tpr, thr = roc_curve(ytrue, ypred)\n",
    "    fnr = 1-tpr\n",
    "    abs_diffs = np.abs(fpr - fnr)\n",
    "    min_index = np.argmin(abs_diffs)\n",
    "    eer = np.mean((fpr[min_index], fnr[min_index]))\n",
    "    return eer, thr[min_index]"
   ]
  },
  {
   "cell_type": "code",
   "execution_count": 14,
   "id": "569de5c2-b41e-4d46-b2f2-ed0637bf6fc5",
   "metadata": {},
   "outputs": [],
   "source": [
    "metric_list = [\"accuracy\", \"f1-score\", \"AUC of ROC\", \"EER\"]\n",
    "metrics = dict()\n",
    "metrics[\"glove\"] = dict()\n",
    "metrics[\"bert\"] = dict()\n",
    "\n",
    "for metric in metric_list:\n",
    "    metrics[\"glove\"][metric] = []\n",
    "    metrics[\"bert\"][metric] = []"
   ]
  },
  {
   "cell_type": "markdown",
   "id": "d85687f2-ef0a-4e6b-b931-fb35fd623170",
   "metadata": {},
   "source": [
    "## GloVe Embeddings Evaluation"
   ]
  },
  {
   "cell_type": "markdown",
   "id": "cb34c291-af2d-4f05-986d-cbc28910fa29",
   "metadata": {},
   "source": [
    "### Neural Network"
   ]
  },
  {
   "cell_type": "code",
   "execution_count": 15,
   "id": "a908ad1d-6206-4eb5-9517-02c3a76d7460",
   "metadata": {},
   "outputs": [],
   "source": [
    "# Define the model\n",
    "input_layer = Input(shape = (train_data_glove.shape[1],))\n",
    "hidden_layer = Dense(64, activation = 'relu')(input_layer)\n",
    "dropout_layer = Dropout(0.5)(hidden_layer)\n",
    "output_layer = Dense(1, activation = 'sigmoid')(dropout_layer)\n",
    "model_glove = Model(inputs = input_layer, outputs = output_layer)"
   ]
  },
  {
   "cell_type": "code",
   "execution_count": 16,
   "id": "a757971b-7449-4fa7-a20f-b520cbb2e5d8",
   "metadata": {},
   "outputs": [],
   "source": [
    "# Compile the model\n",
    "adam = Adam(learning_rate = 0.001)\n",
    "model_glove.compile(loss = 'binary_crossentropy', optimizer = adam, metrics = ['accuracy'])"
   ]
  },
  {
   "cell_type": "code",
   "execution_count": 17,
   "id": "e6da6412-95ee-46ac-8399-4ee61e4c5b3b",
   "metadata": {},
   "outputs": [
    {
     "name": "stdout",
     "output_type": "stream",
     "text": [
      "Epoch 1/20\n",
      "313/313 [==============================] - 2s 2ms/step - loss: 0.5108 - accuracy: 0.7570\n",
      "Epoch 2/20\n",
      "313/313 [==============================] - 1s 3ms/step - loss: 0.4168 - accuracy: 0.8128\n",
      "Epoch 3/20\n",
      "313/313 [==============================] - 1s 3ms/step - loss: 0.4010 - accuracy: 0.8220\n",
      "Epoch 4/20\n",
      "313/313 [==============================] - 1s 3ms/step - loss: 0.3943 - accuracy: 0.8246\n",
      "Epoch 5/20\n",
      "313/313 [==============================] - 1s 3ms/step - loss: 0.3906 - accuracy: 0.8265\n",
      "Epoch 6/20\n",
      "313/313 [==============================] - 1s 3ms/step - loss: 0.3861 - accuracy: 0.8286\n",
      "Epoch 7/20\n",
      "313/313 [==============================] - 1s 3ms/step - loss: 0.3846 - accuracy: 0.8298\n",
      "Epoch 8/20\n",
      "313/313 [==============================] - 1s 3ms/step - loss: 0.3832 - accuracy: 0.8311\n",
      "Epoch 9/20\n",
      "313/313 [==============================] - 1s 3ms/step - loss: 0.3797 - accuracy: 0.8319\n",
      "Epoch 10/20\n",
      "313/313 [==============================] - 1s 3ms/step - loss: 0.3789 - accuracy: 0.8340\n",
      "Epoch 11/20\n",
      "313/313 [==============================] - 1s 3ms/step - loss: 0.3783 - accuracy: 0.8324\n",
      "Epoch 12/20\n",
      "313/313 [==============================] - 1s 3ms/step - loss: 0.3775 - accuracy: 0.8338\n",
      "Epoch 13/20\n",
      "313/313 [==============================] - 1s 3ms/step - loss: 0.3743 - accuracy: 0.8371\n",
      "Epoch 14/20\n",
      "313/313 [==============================] - 1s 3ms/step - loss: 0.3740 - accuracy: 0.8380\n",
      "Epoch 15/20\n",
      "313/313 [==============================] - 1s 3ms/step - loss: 0.3721 - accuracy: 0.8364\n",
      "Epoch 16/20\n",
      "313/313 [==============================] - 1s 3ms/step - loss: 0.3714 - accuracy: 0.8370\n",
      "Epoch 17/20\n",
      "313/313 [==============================] - 1s 3ms/step - loss: 0.3719 - accuracy: 0.8374\n",
      "Epoch 18/20\n",
      "313/313 [==============================] - 1s 3ms/step - loss: 0.3689 - accuracy: 0.8389\n",
      "Epoch 19/20\n",
      "313/313 [==============================] - 1s 3ms/step - loss: 0.3706 - accuracy: 0.8393\n",
      "Epoch 20/20\n",
      "313/313 [==============================] - 1s 3ms/step - loss: 0.3694 - accuracy: 0.8403\n"
     ]
    }
   ],
   "source": [
    "# Train the model on GloVe embeddings\n",
    "history_glove = model_glove.fit(train_data_glove, train_labels, batch_size=128, epochs=20, verbose=1)"
   ]
  },
  {
   "cell_type": "code",
   "execution_count": 18,
   "id": "cd2dcd47-92db-4843-bf9a-c900c23c9c2e",
   "metadata": {},
   "outputs": [
    {
     "name": "stdout",
     "output_type": "stream",
     "text": [
      "313/313 [==============================] - 0s 675us/step\n"
     ]
    }
   ],
   "source": [
    "# Evaluate the model on test set\n",
    "y_pred_glove = model_glove.predict(test_data_glove)\n",
    "y_pred_glove = np.round(y_pred_glove).astype(int)"
   ]
  },
  {
   "cell_type": "code",
   "execution_count": 19,
   "id": "467a0ede-3741-4c31-850c-708fb073fd4e",
   "metadata": {},
   "outputs": [],
   "source": [
    "metrics[\"glove\"][\"accuracy\"].append(round(accuracy_score(test_labels, y_pred_glove), 3))\n",
    "metrics[\"glove\"][\"f1-score\"].append(round(f1_score(test_labels, y_pred_glove), 3))\n",
    "metrics[\"glove\"][\"AUC of ROC\"].append(round(roc_auc_score(test_labels, y_pred_glove), 3))\n",
    "metrics[\"glove\"][\"EER\"].append(round(compute_eer(test_labels, y_pred_glove)[0], 3))"
   ]
  },
  {
   "cell_type": "markdown",
   "id": "d84f4eb5-a365-48aa-8383-8629cca2d0d4",
   "metadata": {},
   "source": [
    "### Logistic Regression"
   ]
  },
  {
   "cell_type": "code",
   "execution_count": 20,
   "id": "a3b5330e-63a9-47fe-9d77-a2d9297a92e7",
   "metadata": {},
   "outputs": [],
   "source": [
    "# Train logistic regression model on GloVe features\n",
    "glove_model = LogisticRegression(max_iter=1000)\n",
    "glove_model.fit(train_data_glove, train_labels)\n",
    "glove_preds = glove_model.predict(test_data_glove)"
   ]
  },
  {
   "cell_type": "code",
   "execution_count": 21,
   "id": "4afacd99-268c-4601-9f3a-276ab31c16fe",
   "metadata": {},
   "outputs": [],
   "source": [
    "metrics[\"glove\"][\"accuracy\"].append(round(accuracy_score(test_labels, glove_preds), 3))\n",
    "metrics[\"glove\"][\"f1-score\"].append(round(f1_score(test_labels, glove_preds), 3))\n",
    "metrics[\"glove\"][\"AUC of ROC\"].append(round(roc_auc_score(test_labels, glove_preds), 3))\n",
    "metrics[\"glove\"][\"EER\"].append(round(compute_eer(test_labels, glove_preds)[0], 3))"
   ]
  },
  {
   "cell_type": "markdown",
   "id": "1cdd322c-69a3-49f7-bcf8-d4ba1cdf0058",
   "metadata": {
    "tags": []
   },
   "source": [
    "## BERT Embeddings Evaluation"
   ]
  },
  {
   "cell_type": "markdown",
   "id": "b504db47-cc8c-44d2-aff2-d2dee576dc17",
   "metadata": {},
   "source": [
    "### Neural Network"
   ]
  },
  {
   "cell_type": "code",
   "execution_count": 23,
   "id": "b001bdbb-6e73-49e2-9ae6-ed03fbbabfdd",
   "metadata": {},
   "outputs": [],
   "source": [
    "# Define the model\n",
    "input_layer = Input(shape = (train_data_bert.shape[1],))\n",
    "hidden_layer = Dense(64, activation = 'relu')(input_layer)\n",
    "dropout_layer = Dropout(0.5)(hidden_layer)\n",
    "output_layer = Dense(1, activation = 'sigmoid')(dropout_layer)\n",
    "model_bert = Model(inputs = input_layer, outputs = output_layer)"
   ]
  },
  {
   "cell_type": "code",
   "execution_count": 24,
   "id": "aa9d27f9-ab42-4bb2-9214-467fba493840",
   "metadata": {},
   "outputs": [],
   "source": [
    "# Compile the model\n",
    "adam = Adam(learning_rate = 0.001)\n",
    "model_bert.compile(loss = 'binary_crossentropy', optimizer = adam, metrics = ['accuracy'])"
   ]
  },
  {
   "cell_type": "code",
   "execution_count": 25,
   "id": "0e9e72b9-0761-4299-aa82-91e91b3da992",
   "metadata": {},
   "outputs": [
    {
     "name": "stdout",
     "output_type": "stream",
     "text": [
      "Epoch 1/20\n",
      "313/313 [==============================] - 1s 4ms/step - loss: 0.4729 - accuracy: 0.7776\n",
      "Epoch 2/20\n",
      "313/313 [==============================] - 1s 3ms/step - loss: 0.4086 - accuracy: 0.8157\n",
      "Epoch 3/20\n",
      "313/313 [==============================] - 1s 3ms/step - loss: 0.3923 - accuracy: 0.8264\n",
      "Epoch 4/20\n",
      "313/313 [==============================] - 1s 3ms/step - loss: 0.3848 - accuracy: 0.8290\n",
      "Epoch 5/20\n",
      "313/313 [==============================] - 1s 3ms/step - loss: 0.3796 - accuracy: 0.8313\n",
      "Epoch 6/20\n",
      "313/313 [==============================] - 1s 3ms/step - loss: 0.3772 - accuracy: 0.8338\n",
      "Epoch 7/20\n",
      "313/313 [==============================] - 1s 3ms/step - loss: 0.3736 - accuracy: 0.8350\n",
      "Epoch 8/20\n",
      "313/313 [==============================] - 1s 3ms/step - loss: 0.3714 - accuracy: 0.8370\n",
      "Epoch 9/20\n",
      "313/313 [==============================] - 1s 3ms/step - loss: 0.3697 - accuracy: 0.8383\n",
      "Epoch 10/20\n",
      "313/313 [==============================] - 1s 3ms/step - loss: 0.3666 - accuracy: 0.8375\n",
      "Epoch 11/20\n",
      "313/313 [==============================] - 1s 3ms/step - loss: 0.3658 - accuracy: 0.8395\n",
      "Epoch 12/20\n",
      "313/313 [==============================] - 1s 3ms/step - loss: 0.3624 - accuracy: 0.8392\n",
      "Epoch 13/20\n",
      "313/313 [==============================] - 1s 3ms/step - loss: 0.3616 - accuracy: 0.8402\n",
      "Epoch 14/20\n",
      "313/313 [==============================] - 1s 3ms/step - loss: 0.3590 - accuracy: 0.8420\n",
      "Epoch 15/20\n",
      "313/313 [==============================] - 1s 3ms/step - loss: 0.3583 - accuracy: 0.8428\n",
      "Epoch 16/20\n",
      "313/313 [==============================] - 1s 3ms/step - loss: 0.3549 - accuracy: 0.8438\n",
      "Epoch 17/20\n",
      "313/313 [==============================] - 1s 3ms/step - loss: 0.3565 - accuracy: 0.8444\n",
      "Epoch 18/20\n",
      "313/313 [==============================] - 1s 3ms/step - loss: 0.3549 - accuracy: 0.8468\n",
      "Epoch 19/20\n",
      "313/313 [==============================] - 1s 3ms/step - loss: 0.3552 - accuracy: 0.8459\n",
      "Epoch 20/20\n",
      "313/313 [==============================] - 1s 3ms/step - loss: 0.3515 - accuracy: 0.8468\n"
     ]
    }
   ],
   "source": [
    "# Train the model on GloVe embeddings\n",
    "history_glove = model_bert.fit(train_data_bert, train_labels, batch_size=128, epochs=20, verbose=1)"
   ]
  },
  {
   "cell_type": "code",
   "execution_count": 26,
   "id": "4802f3ba-ec03-4d90-ba8a-d65131ad1f5b",
   "metadata": {},
   "outputs": [
    {
     "name": "stdout",
     "output_type": "stream",
     "text": [
      "313/313 [==============================] - 0s 700us/step\n"
     ]
    }
   ],
   "source": [
    "# Evaluate the model on test set\n",
    "y_pred_bert = model_bert.predict(test_data_bert)\n",
    "y_pred_bert = np.round(y_pred_bert).astype(int)"
   ]
  },
  {
   "cell_type": "code",
   "execution_count": 27,
   "id": "0da6fcda-171a-4e85-bde9-e6476659cbf0",
   "metadata": {},
   "outputs": [],
   "source": [
    "metrics[\"bert\"][\"accuracy\"].append(round(accuracy_score(test_labels, y_pred_bert), 3))\n",
    "metrics[\"bert\"][\"f1-score\"].append(round(f1_score(test_labels, y_pred_bert), 3))\n",
    "metrics[\"bert\"][\"AUC of ROC\"].append(round(roc_auc_score(test_labels, y_pred_bert), 3))\n",
    "metrics[\"bert\"][\"EER\"].append(round(compute_eer(test_labels, y_pred_bert)[0], 3))"
   ]
  },
  {
   "cell_type": "markdown",
   "id": "3898db71-cde6-41bd-9259-ae7844178170",
   "metadata": {},
   "source": [
    "### Logistic Regression"
   ]
  },
  {
   "cell_type": "code",
   "execution_count": 29,
   "id": "5eeb6b21-fa38-4286-a736-414f27260381",
   "metadata": {},
   "outputs": [],
   "source": [
    "# Train logistic regression model on BERT features\n",
    "bert_model = LogisticRegression(max_iter=1000)\n",
    "bert_model.fit(train_data_bert, train_labels)\n",
    "bert_preds = bert_model.predict(test_data_bert)"
   ]
  },
  {
   "cell_type": "code",
   "execution_count": 30,
   "id": "7502aebb-b2d8-49f2-9d71-3d5be18de95a",
   "metadata": {},
   "outputs": [],
   "source": [
    "metrics[\"bert\"][\"accuracy\"].append(round(accuracy_score(test_labels, bert_preds), 3))\n",
    "metrics[\"bert\"][\"f1-score\"].append(round(f1_score(test_labels, bert_preds), 3))\n",
    "metrics[\"bert\"][\"AUC of ROC\"].append(round(roc_auc_score(test_labels, bert_preds), 3))\n",
    "metrics[\"bert\"][\"EER\"].append(round(compute_eer(test_labels, bert_preds)[0], 3))"
   ]
  },
  {
   "cell_type": "code",
   "execution_count": 44,
   "id": "b75078f0-f8b1-4054-9f0e-c2f7fc1af42d",
   "metadata": {},
   "outputs": [
    {
     "name": "stdout",
     "output_type": "stream",
     "text": [
      "╒═════════════╤═════════╤════════════╤══════════════╤══════════════╤═══════╕\n",
      "│ Embedding   │ Model   │   Accuracy │   F1 - Score │   AUC of ROC │   EER │\n",
      "╞═════════════╪═════════╪════════════╪══════════════╪══════════════╪═══════╡\n",
      "│ glove       │ NN      │      0.837 │        0.838 │        0.837 │ 0.163 │\n",
      "├─────────────┼─────────┼────────────┼──────────────┼──────────────┼───────┤\n",
      "│ glove       │ LR      │      0.832 │        0.832 │        0.832 │ 0.168 │\n",
      "├─────────────┼─────────┼────────────┼──────────────┼──────────────┼───────┤\n",
      "│ bert        │ NN      │      0.848 │        0.848 │        0.848 │ 0.152 │\n",
      "├─────────────┼─────────┼────────────┼──────────────┼──────────────┼───────┤\n",
      "│ bert        │ LR      │      0.851 │        0.852 │        0.851 │ 0.149 │\n",
      "╘═════════════╧═════════╧════════════╧══════════════╧══════════════╧═══════╛\n"
     ]
    }
   ],
   "source": [
    "table = []\n",
    "\n",
    "for embed in [\"glove\", \"bert\"]:\n",
    "    for model in [\"NN\", \"LR\"]:\n",
    "        item = [embed, model]\n",
    "        if model == \"NN\":\n",
    "            i = 0\n",
    "        else:\n",
    "            i = 1\n",
    "        for metric in metric_list:\n",
    "            m = metrics[embed][metric][i]\n",
    "            item.extend([m])\n",
    "        table.append(item)\n",
    "\n",
    "print(tabulate(table, headers=[\"Embedding\", \"Model\", \"Accuracy\", \"F1 - Score\", \"AUC of ROC\", \"EER\"], tablefmt=\"fancy_grid\"))"
   ]
  },
  {
   "cell_type": "code",
   "execution_count": 45,
   "id": "bf16786f-f415-4ee6-a5d3-80324bfb6150",
   "metadata": {},
   "outputs": [
    {
     "name": "stdout",
     "output_type": "stream",
     "text": [
      "Glove Embedding:\n",
      "Neural Network Metrics:\n",
      "Accuracy: 0.837\n",
      "F1 - Score: 0.838\n",
      "AUC of ROC: 0.837\n",
      "EER: 0.163\n",
      "Logistic Regression Metrics:\n",
      "Accuracy: 0.832\n",
      "F1 - Score: 0.832\n",
      "AUC of ROC: 0.832\n",
      "EER: 0.168\n",
      "BERT Embedding:\n",
      "Neural Network Metrics:\n",
      "Accuracy: 0.848\n",
      "F1 - Score: 0.848\n",
      "AUC of ROC: 0.848\n",
      "EER: 0.152\n",
      "Logistic Regression Metrics:\n",
      "Accuracy: 0.851\n",
      "F1 - Score: 0.852\n",
      "AUC of ROC: 0.851\n",
      "EER: 0.149\n"
     ]
    }
   ],
   "source": [
    "print(\"Glove Embedding:\")\n",
    "print(\"Neural Network Metrics:\")\n",
    "print(\"Accuracy:\", metrics[\"glove\"][\"accuracy\"][0])\n",
    "print(\"F1 - Score:\", metrics[\"glove\"][\"f1-score\"][0])\n",
    "print(\"AUC of ROC:\", metrics[\"glove\"][\"AUC of ROC\"][0])\n",
    "print(\"EER:\", metrics[\"glove\"][\"EER\"][0])\n",
    "print(\"Logistic Regression Metrics:\")\n",
    "print(\"Accuracy:\", metrics[\"glove\"][\"accuracy\"][1])\n",
    "print(\"F1 - Score:\", metrics[\"glove\"][\"f1-score\"][1])\n",
    "print(\"AUC of ROC:\", metrics[\"glove\"][\"AUC of ROC\"][1])\n",
    "print(\"EER:\", metrics[\"glove\"][\"EER\"][1])\n",
    "\n",
    "print(\"BERT Embedding:\")\n",
    "print(\"Neural Network Metrics:\")\n",
    "print(\"Accuracy:\", metrics[\"bert\"][\"accuracy\"][0])\n",
    "print(\"F1 - Score:\", metrics[\"bert\"][\"f1-score\"][0])\n",
    "print(\"AUC of ROC:\", metrics[\"bert\"][\"AUC of ROC\"][0])\n",
    "print(\"EER:\", metrics[\"bert\"][\"EER\"][0])\n",
    "print(\"Logistic Regression Metrics:\")\n",
    "print(\"Accuracy:\", metrics[\"bert\"][\"accuracy\"][1])\n",
    "print(\"F1 - Score:\", metrics[\"bert\"][\"f1-score\"][1])\n",
    "print(\"AUC of ROC:\", metrics[\"bert\"][\"AUC of ROC\"][1])\n",
    "print(\"EER:\", metrics[\"bert\"][\"EER\"][1])"
   ]
  },
  {
   "cell_type": "code",
   "execution_count": null,
   "id": "8bd0c1db-d6ee-4e2e-81ce-27a5bde374fa",
   "metadata": {},
   "outputs": [],
   "source": []
  }
 ],
 "metadata": {
  "kernelspec": {
   "display_name": "Python 3 (ipykernel)",
   "language": "python",
   "name": "python3"
  },
  "language_info": {
   "codemirror_mode": {
    "name": "ipython",
    "version": 3
   },
   "file_extension": ".py",
   "mimetype": "text/x-python",
   "name": "python",
   "nbconvert_exporter": "python",
   "pygments_lexer": "ipython3",
   "version": "3.9.16"
  }
 },
 "nbformat": 4,
 "nbformat_minor": 5
}
